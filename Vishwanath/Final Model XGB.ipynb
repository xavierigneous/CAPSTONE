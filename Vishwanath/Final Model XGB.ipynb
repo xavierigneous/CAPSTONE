{
 "cells": [
  {
   "cell_type": "code",
   "execution_count": 1,
   "metadata": {},
   "outputs": [
    {
     "name": "stderr",
     "output_type": "stream",
     "text": [
      "Using TensorFlow backend.\n"
     ]
    }
   ],
   "source": [
    "import pandas as pd\n",
    "import numpy as np\n",
    "import seaborn as sns\n",
    "import matplotlib.pyplot as plt\n",
    "import re\n",
    "from sklearn.preprocessing import LabelEncoder,StandardScaler\n",
    "from sklearn.impute import KNNImputer\n",
    "\n",
    "#model selection from sklearn import model_selection\n",
    "from sklearn.linear_model import LogisticRegression\n",
    "from sklearn.naive_bayes import GaussianNB\n",
    "from sklearn.tree import DecisionTreeClassifier\n",
    "from sklearn.neighbors import KNeighborsClassifier\n",
    "#ensemble\n",
    "from sklearn.ensemble import RandomForestClassifier,BaggingClassifier,AdaBoostClassifier,GradientBoostingClassifier\n",
    "from xgboost import XGBClassifier\n",
    "#metrics\n",
    "from sklearn.metrics import precision_score, recall_score, f1_score, roc_auc_score, accuracy_score, classification_report,confusion_matrix\n",
    "#pca\n",
    "from sklearn.decomposition import PCA\n",
    "#data_balance\n",
    "from sklearn.utils import resample\n",
    "from imblearn.over_sampling import SMOTE\n",
    "#warnings\n",
    "import warnings\n",
    "warnings.filterwarnings(\"ignore\")"
   ]
  },
  {
   "cell_type": "code",
   "execution_count": 2,
   "metadata": {},
   "outputs": [],
   "source": [
    "import os\n",
    "os.chdir(r'C:\\Users\\VISHY\\Desktop\\Great Learning\\Capstone\\Vehicle-Loan-Default-Prediction\\Data')"
   ]
  },
  {
   "cell_type": "code",
   "execution_count": 4,
   "metadata": {},
   "outputs": [],
   "source": [
    "pd.set_option('display.max_rows',500)\n",
    "pd.set_option('display.max_columns',500)\n",
    "pd.set_option('display.width',1000)"
   ]
  },
  {
   "cell_type": "code",
   "execution_count": 3,
   "metadata": {},
   "outputs": [],
   "source": [
    "df = pd.read_csv('train.csv')\n",
    "\n",
    "df=df.drop(['UniqueID', 'branch_id','supplier_id', 'Current_pincode_ID','State_ID', 'Employee_code_ID', 'MobileNo_Avl_Flag'],axis=1)"
   ]
  },
  {
   "cell_type": "code",
   "execution_count": 4,
   "metadata": {},
   "outputs": [],
   "source": [
    "def credit_risk(df):\n",
    "    d1=[]\n",
    "    d2=[]\n",
    "    for i in df:\n",
    "        p = i.split(\"-\")\n",
    "        if len(p) == 1:\n",
    "            d1.append(p[0])\n",
    "            d2.append('unknown')\n",
    "        else:\n",
    "            d1.append(p[1])\n",
    "            d2.append(p[0])\n",
    "\n",
    "    return d1,d2\n",
    "\n",
    "risk_map = {'No Bureau History Available':-1, \n",
    "              'Not Scored: No Activity seen on the customer (Inactive)':-1,\n",
    "              'Not Scored: Sufficient History Not Available':-1,\n",
    "              'Not Scored: No Updates available in last 36 months':-1,\n",
    "              'Not Scored: Only a Guarantor':-1,\n",
    "              'Not Scored: More than 50 active Accounts found':-1,\n",
    "              'Not Scored: Not Enough Info available on the customer':-1,\n",
    "              'Very Low Risk':4,\n",
    "              'Low Risk':3,\n",
    "              'Medium Risk':2, \n",
    "              'High Risk':1,\n",
    "              'Very High Risk':0}\n",
    "\n",
    "sub_risk = {'unknown':-1, 'A':13, 'B':12, 'C':11,'D':10,'E':9,'F':8,'G':7,'H':6,'I':5,'J':4,'K':3, 'L':2,'M':1}\n",
    "employment_map = {'Self employed':0, 'Salaried':1,np.nan:2}\n",
    "\n",
    "df.loc[:,'credit_risk'],df.loc[:,'credit_risk_grade']  = credit_risk(df[\"PERFORM_CNS.SCORE.DESCRIPTION\"])\n",
    "df.loc[:,'credit_risk_label'] = df['credit_risk'].apply(lambda x: risk_map[x])\n",
    "df.loc[:,'sub_risk_label'] = df['credit_risk_grade'].apply(lambda x: sub_risk[x])\n",
    "\n",
    "df.loc[:,'employment_label'] = df['Employment.Type'].apply(lambda x: employment_map[x])\n",
    "\n",
    "df=df.drop(['PERFORM_CNS.SCORE.DESCRIPTION', 'credit_risk', 'credit_risk_grade','Employment.Type'],axis=1)"
   ]
  },
  {
   "cell_type": "code",
   "execution_count": 5,
   "metadata": {},
   "outputs": [],
   "source": [
    "df.loc[:,'no_of_accts'] = df['PRI.NO.OF.ACCTS'] + df['SEC.NO.OF.ACCTS']\n",
    "\n",
    "df.loc[:,'pri_inactive_accts'] = df['PRI.NO.OF.ACCTS'] - df['PRI.ACTIVE.ACCTS']\n",
    "df.loc[:,'sec_inactive_accts'] = df['SEC.NO.OF.ACCTS'] - df['SEC.ACTIVE.ACCTS']\n",
    "df.loc[:,'tot_inactive_accts'] = df['pri_inactive_accts'] + df['sec_inactive_accts']\n",
    "df.loc[:,'tot_overdue_accts'] = df['PRI.OVERDUE.ACCTS'] + df['SEC.OVERDUE.ACCTS']\n",
    "df.loc[:,'tot_current_balance'] = df['PRI.CURRENT.BALANCE'] + df['SEC.CURRENT.BALANCE']\n",
    "df.loc[:,'tot_sanctioned_amount'] = df['PRI.SANCTIONED.AMOUNT'] + df['SEC.SANCTIONED.AMOUNT']\n",
    "df.loc[:,'tot_disbursed_amount'] = df['PRI.DISBURSED.AMOUNT'] + df['SEC.DISBURSED.AMOUNT']\n",
    "df.loc[:,'tot_installment'] = df['PRIMARY.INSTAL.AMT'] + df['SEC.INSTAL.AMT']"
   ]
  },
  {
   "cell_type": "code",
   "execution_count": 6,
   "metadata": {},
   "outputs": [],
   "source": [
    "def duration(dur):\n",
    "    yrs = int(dur.split(' ')[0].replace('yrs',''))\n",
    "    mon = int(dur.split(' ')[1].replace('mon',''))\n",
    "    return yrs*12+mon"
   ]
  },
  {
   "cell_type": "code",
   "execution_count": 7,
   "metadata": {},
   "outputs": [],
   "source": [
    "df['AVERAGE.ACCT.AGE'] = df['AVERAGE.ACCT.AGE'].apply(duration)\n",
    "df['CREDIT.HISTORY.LENGTH'] = df['CREDIT.HISTORY.LENGTH'].apply(duration)\n",
    "#df.drop(['AVERAGE.ACCT.AGE','CREDIT.HISTORY.LENGTH'],axis=1,inplace=True)"
   ]
  },
  {
   "cell_type": "code",
   "execution_count": 8,
   "metadata": {},
   "outputs": [],
   "source": [
    "def age(dur):\n",
    "    yr = int(dur.split('-')[2])\n",
    "    if yr >=0 and yr<=19:\n",
    "        return yr+2000\n",
    "    else:\n",
    "         return yr+1900\n",
    "\n",
    "df['Date.of.Birth'] = df['Date.of.Birth'].apply(age)\n",
    "df['DisbursalDate'] = df['DisbursalDate'].apply(age)\n",
    "df['Age']=df['DisbursalDate']-df['Date.of.Birth']\n",
    "df=df.drop(['DisbursalDate','Date.of.Birth'],axis=1)"
   ]
  },
  {
   "cell_type": "code",
   "execution_count": 9,
   "metadata": {},
   "outputs": [],
   "source": [
    "df=df.drop(['PRI.NO.OF.ACCTS','SEC.NO.OF.ACCTS','PRI.CURRENT.BALANCE','pri_inactive_accts','sec_inactive_accts',\n",
    "            'PRI.SANCTIONED.AMOUNT','SEC.NO.OF.ACCTS','PRI.NO.OF.ACCTS','PRI.DISBURSED.AMOUNT','PRI.ACTIVE.ACCTS', \n",
    "            'PRI.OVERDUE.ACCTS','SEC.CURRENT.BALANCE','SEC.SANCTIONED.AMOUNT', 'SEC.OVERDUE.ACCTS',\n",
    "            'SEC.DISBURSED.AMOUNT','PRIMARY.INSTAL.AMT','SEC.INSTAL.AMT','disbursed_amount','SEC.ACTIVE.ACCTS'],axis=1)"
   ]
  },
  {
   "cell_type": "code",
   "execution_count": 10,
   "metadata": {},
   "outputs": [],
   "source": [
    "nums=['asset_cost', 'ltv','PERFORM_CNS.SCORE',\n",
    "       'NEW.ACCTS.IN.LAST.SIX.MONTHS', 'DELINQUENT.ACCTS.IN.LAST.SIX.MONTHS',\n",
    "       'AVERAGE.ACCT.AGE', 'CREDIT.HISTORY.LENGTH', 'NO.OF_INQUIRIES','no_of_accts', 'tot_inactive_accts',\n",
    "       'tot_overdue_accts', 'tot_current_balance', 'tot_sanctioned_amount',\n",
    "       'tot_disbursed_amount', 'tot_installment','Age']"
   ]
  },
  {
   "cell_type": "code",
   "execution_count": 11,
   "metadata": {},
   "outputs": [],
   "source": [
    "df['Missing Features'] = (df == 0).astype(int).sum(axis=1)"
   ]
  },
  {
   "cell_type": "code",
   "execution_count": 12,
   "metadata": {},
   "outputs": [],
   "source": [
    "from sklearn.preprocessing import  RobustScaler\n",
    "rob_scaler = RobustScaler()\n",
    "\n",
    "df[nums] = rob_scaler.fit_transform(df[nums])"
   ]
  },
  {
   "cell_type": "code",
   "execution_count": 13,
   "metadata": {},
   "outputs": [],
   "source": [
    "y=df.loan_default\n",
    "X=df.drop(\"loan_default\",axis=1)\n",
    "from sklearn.model_selection import train_test_split,KFold,cross_val_score\n",
    "X_train, X_test, y_train, y_test = train_test_split(X, y, test_size=0.30, random_state=42)"
   ]
  },
  {
   "cell_type": "code",
   "execution_count": 16,
   "metadata": {},
   "outputs": [],
   "source": [
    "sm = SMOTE(random_state=2)\n",
    "X_train, y_train = sm.fit_sample(X_train, y_train.ravel())"
   ]
  },
  {
   "cell_type": "code",
   "execution_count": 17,
   "metadata": {},
   "outputs": [
    {
     "data": {
      "text/plain": [
       "(255574, 26)"
      ]
     },
     "execution_count": 17,
     "metadata": {},
     "output_type": "execute_result"
    }
   ],
   "source": [
    "X_train.shape"
   ]
  },
  {
   "cell_type": "code",
   "execution_count": 18,
   "metadata": {},
   "outputs": [],
   "source": [
    "classifiers = [\n",
    "    LogisticRegression(),\n",
    "    DecisionTreeClassifier(criterion='entropy',random_state=0),\n",
    "    DecisionTreeClassifier(criterion='gini',random_state=0),\n",
    "    RandomForestClassifier(n_estimators=100),\n",
    "    GaussianNB(),\n",
    "    BaggingClassifier(random_state=0),\n",
    "    AdaBoostClassifier(),\n",
    "    XGBClassifier(random_state=0, n_jobs=-1, learning_rate=0.2,\n",
    "                  n_estimators=100, max_depth=3)\n",
    "]"
   ]
  },
  {
   "cell_type": "code",
   "execution_count": 19,
   "metadata": {
    "scrolled": false
   },
   "outputs": [
    {
     "name": "stdout",
     "output_type": "stream",
     "text": [
      "LogisticRegression(C=1.0, class_weight=None, dual=False, fit_intercept=True,\n",
      "                   intercept_scaling=1, l1_ratio=None, max_iter=100,\n",
      "                   multi_class='auto', n_jobs=None, penalty='l2',\n",
      "                   random_state=None, solver='lbfgs', tol=0.0001, verbose=0,\n",
      "                   warm_start=False) \n",
      "\n",
      "accuracy train: 0.6218668565660044 \n",
      "\n",
      "accuracy test: 0.6234863539537078 \n",
      "\n",
      "precision : 0.3043981887746148 \n",
      "\n",
      "Recall score: 0.5708643275623725 \n",
      "\n",
      "f1 score: 0.3970695970695971 \n",
      "\n",
      "              precision    recall  f1-score   support\n",
      "\n",
      "           0       0.84      0.64      0.73     54756\n",
      "           1       0.30      0.57      0.40     15191\n",
      "\n",
      "    accuracy                           0.62     69947\n",
      "   macro avg       0.57      0.60      0.56     69947\n",
      "weighted avg       0.73      0.62      0.65     69947\n",
      "\n",
      "DecisionTreeClassifier(ccp_alpha=0.0, class_weight=None, criterion='entropy',\n",
      "                       max_depth=None, max_features=None, max_leaf_nodes=None,\n",
      "                       min_impurity_decrease=0.0, min_impurity_split=None,\n",
      "                       min_samples_leaf=1, min_samples_split=2,\n",
      "                       min_weight_fraction_leaf=0.0, presort='deprecated',\n",
      "                       random_state=0, splitter='best') \n",
      "\n",
      "accuracy train: 1.0 \n",
      "\n",
      "accuracy test: 0.9791127568015784 \n",
      "\n",
      "precision : 0.945201037613489 \n",
      "\n",
      "Recall score: 0.9594496741491673 \n",
      "\n",
      "f1 score: 0.9522720590637354 \n",
      "\n",
      "              precision    recall  f1-score   support\n",
      "\n",
      "           0       0.99      0.98      0.99     54756\n",
      "           1       0.95      0.96      0.95     15191\n",
      "\n",
      "    accuracy                           0.98     69947\n",
      "   macro avg       0.97      0.97      0.97     69947\n",
      "weighted avg       0.98      0.98      0.98     69947\n",
      "\n",
      "DecisionTreeClassifier(ccp_alpha=0.0, class_weight=None, criterion='gini',\n",
      "                       max_depth=None, max_features=None, max_leaf_nodes=None,\n",
      "                       min_impurity_decrease=0.0, min_impurity_split=None,\n",
      "                       min_samples_leaf=1, min_samples_split=2,\n",
      "                       min_weight_fraction_leaf=0.0, presort='deprecated',\n",
      "                       random_state=0, splitter='best') \n",
      "\n",
      "accuracy train: 1.0 \n",
      "\n",
      "accuracy test: 0.9790269775687306 \n",
      "\n",
      "precision : 0.9454108788783591 \n",
      "\n",
      "Recall score: 0.9587913896386018 \n",
      "\n",
      "f1 score: 0.9520541229532307 \n",
      "\n",
      "              precision    recall  f1-score   support\n",
      "\n",
      "           0       0.99      0.98      0.99     54756\n",
      "           1       0.95      0.96      0.95     15191\n",
      "\n",
      "    accuracy                           0.98     69947\n",
      "   macro avg       0.97      0.97      0.97     69947\n",
      "weighted avg       0.98      0.98      0.98     69947\n",
      "\n",
      "RandomForestClassifier(bootstrap=True, ccp_alpha=0.0, class_weight=None,\n",
      "                       criterion='gini', max_depth=None, max_features='auto',\n",
      "                       max_leaf_nodes=None, max_samples=None,\n",
      "                       min_impurity_decrease=0.0, min_impurity_split=None,\n",
      "                       min_samples_leaf=1, min_samples_split=2,\n",
      "                       min_weight_fraction_leaf=0.0, n_estimators=100,\n",
      "                       n_jobs=None, oob_score=False, random_state=None,\n",
      "                       verbose=0, warm_start=False) \n",
      "\n",
      "accuracy train: 1.0 \n",
      "\n",
      "accuracy test: 0.953722103878651 \n",
      "\n",
      "precision : 0.9537655633161252 \n",
      "\n",
      "Recall score: 0.8270028306233954 \n",
      "\n",
      "f1 score: 0.8858724394457567 \n",
      "\n",
      "              precision    recall  f1-score   support\n",
      "\n",
      "           0       0.95      0.99      0.97     54756\n",
      "           1       0.95      0.83      0.89     15191\n",
      "\n",
      "    accuracy                           0.95     69947\n",
      "   macro avg       0.95      0.91      0.93     69947\n",
      "weighted avg       0.95      0.95      0.95     69947\n",
      "\n",
      "GaussianNB(priors=None, var_smoothing=1e-09) \n",
      "\n",
      "accuracy train: 0.5776409180902595 \n",
      "\n",
      "accuracy test: 0.5836561968347463 \n",
      "\n",
      "precision : 0.2638413290388201 \n",
      "\n",
      "Recall score: 0.512277006122046 \n",
      "\n",
      "f1 score: 0.34829700577362044 \n",
      "\n",
      "              precision    recall  f1-score   support\n",
      "\n",
      "           0       0.82      0.60      0.69     54756\n",
      "           1       0.26      0.51      0.35     15191\n",
      "\n",
      "    accuracy                           0.58     69947\n",
      "   macro avg       0.54      0.56      0.52     69947\n",
      "weighted avg       0.70      0.58      0.62     69947\n",
      "\n",
      "BaggingClassifier(base_estimator=None, bootstrap=True, bootstrap_features=False,\n",
      "                  max_features=1.0, max_samples=1.0, n_estimators=10,\n",
      "                  n_jobs=None, oob_score=False, random_state=0, verbose=0,\n",
      "                  warm_start=False) \n",
      "\n",
      "accuracy train: 0.9991391925626237 \n",
      "\n",
      "accuracy test: 0.9813001272391954 \n",
      "\n",
      "precision : 0.9640350290794839 \n",
      "\n",
      "Recall score: 0.9493120926864591 \n",
      "\n",
      "f1 score: 0.9566169154228855 \n",
      "\n",
      "              precision    recall  f1-score   support\n",
      "\n",
      "           0       0.99      0.99      0.99     54756\n",
      "           1       0.96      0.95      0.96     15191\n",
      "\n",
      "    accuracy                           0.98     69947\n",
      "   macro avg       0.98      0.97      0.97     69947\n",
      "weighted avg       0.98      0.98      0.98     69947\n",
      "\n",
      "AdaBoostClassifier(algorithm='SAMME.R', base_estimator=None, learning_rate=1.0,\n",
      "                   n_estimators=50, random_state=None) \n",
      "\n",
      "accuracy train: 0.885399140757667 \n",
      "\n",
      "accuracy test: 0.8593220581297268 \n",
      "\n",
      "precision : 0.6364842116002652 \n",
      "\n",
      "Recall score: 0.8213415838325324 \n",
      "\n",
      "f1 score: 0.7171926194171409 \n",
      "\n",
      "              precision    recall  f1-score   support\n",
      "\n",
      "           0       0.95      0.87      0.91     54756\n",
      "           1       0.64      0.82      0.72     15191\n",
      "\n",
      "    accuracy                           0.86     69947\n",
      "   macro avg       0.79      0.85      0.81     69947\n",
      "weighted avg       0.88      0.86      0.87     69947\n",
      "\n",
      "XGBClassifier(base_score=0.5, booster='gbtree', colsample_bylevel=1,\n",
      "              colsample_bynode=1, colsample_bytree=1, gamma=0,\n",
      "              learning_rate=0.2, max_delta_step=0, max_depth=3,\n",
      "              min_child_weight=1, missing=None, n_estimators=100, n_jobs=-1,\n",
      "              nthread=None, objective='binary:logistic', random_state=0,\n",
      "              reg_alpha=0, reg_lambda=1, scale_pos_weight=1, seed=None,\n",
      "              silent=None, subsample=1, verbosity=1) \n",
      "\n",
      "accuracy train: 0.9627818166167138 \n",
      "\n",
      "accuracy test: 0.9553662058415657 \n",
      "\n",
      "precision : 0.927281739007293 \n",
      "\n",
      "Recall score: 0.8620893950365348 \n",
      "\n",
      "f1 score: 0.8934979873098178 \n",
      "\n",
      "              precision    recall  f1-score   support\n",
      "\n",
      "           0       0.96      0.98      0.97     54756\n",
      "           1       0.93      0.86      0.89     15191\n",
      "\n",
      "    accuracy                           0.96     69947\n",
      "   macro avg       0.94      0.92      0.93     69947\n",
      "weighted avg       0.95      0.96      0.95     69947\n",
      "\n"
     ]
    }
   ],
   "source": [
    "results = []\n",
    "for item in classifiers:\n",
    "    print(item,\"\\n\")\n",
    "    clf = item\n",
    "    clf.fit(X_train, y_train)\n",
    "    y_pred=clf.predict(X_test)\n",
    "    #print(y_pred)\n",
    "    #results.append(accuracy_score(y_test,y_pred))\n",
    "    results.append(y_pred)\n",
    "    print(\"accuracy train:\",clf.score(X_train,y_train),\"\\n\")\n",
    "    print(\"accuracy test:\",clf.score(X_test,y_test),\"\\n\")\n",
    "    print(\"precision :\",precision_score(y_test,y_pred),\"\\n\")\n",
    "    print('Recall score:',recall_score(y_test,y_pred),'\\n')\n",
    "    print(\"f1 score:\",f1_score(y_test,y_pred),\"\\n\")\n",
    "    from sklearn.metrics import classification_report\n",
    "    print(classification_report(y_test,y_pred))"
   ]
  },
  {
   "cell_type": "code",
   "execution_count": 20,
   "metadata": {},
   "outputs": [],
   "source": [
    "xgb=XGBClassifier(random_state=0, n_jobs=-1, learning_rate=0.2,\n",
    "                  n_estimators=100, max_depth=3)"
   ]
  },
  {
   "cell_type": "code",
   "execution_count": 21,
   "metadata": {},
   "outputs": [],
   "source": [
    "xgb.fit(X_train, y_train)\n",
    "y_pred=xgb.predict(X_test)"
   ]
  },
  {
   "cell_type": "code",
   "execution_count": 37,
   "metadata": {},
   "outputs": [
    {
     "name": "stdout",
     "output_type": "stream",
     "text": [
      "accuracy train: 0.9627818166167138 \n",
      "\n",
      "accuracy test: 0.9553662058415657 \n",
      "\n",
      "precision : 0.927281739007293 \n",
      "\n",
      "Recall : 0.8620893950365348 \n",
      "\n",
      "f1 score: 0.8934979873098178 \n",
      "\n",
      "Confusion Matrix \n",
      " [[53729  1027]\n",
      " [ 2095 13096]]\n"
     ]
    }
   ],
   "source": [
    "print(\"accuracy train:\",xgb.score(X_train,y_train),\"\\n\")\n",
    "print(\"accuracy test:\",xgb.score(X_test,y_test),\"\\n\")\n",
    "print(\"precision :\",precision_score(y_test,y_pred),\"\\n\")\n",
    "print(\"Recall :\",recall_score(y_test,y_pred),\"\\n\")\n",
    "print(\"f1 score:\",f1_score(y_test,y_pred),\"\\n\")\n",
    "print(\"Confusion Matrix \\n\",confusion_matrix(y_test,y_pred))"
   ]
  },
  {
   "cell_type": "code",
   "execution_count": 34,
   "metadata": {},
   "outputs": [
    {
     "data": {
      "image/png": "[encoded data removed]",
      "text/plain": [
       "<Figure size 432x288 with 2 Axes>"
      ]
     },
     "metadata": {
      "needs_background": "light"
     },
     "output_type": "display_data"
    }
   ],
   "source": [
    "ax = sns.heatmap(confusion_matrix(y_test,y_pred).T,annot=True,fmt='2')\n",
    "ax.invert_yaxis()\n",
    "ax.invert_xaxis()"
   ]
  },
  {
   "cell_type": "code",
   "execution_count": 39,
   "metadata": {},
   "outputs": [],
   "source": [
    "import sklearn.metrics as metrics"
   ]
  },
  {
   "cell_type": "code",
   "execution_count": 42,
   "metadata": {},
   "outputs": [
    {
     "data": {
      "image/png": "[encoded data removed]",
      "text/plain": [
       "<Figure size 432x288 with 1 Axes>"
      ]
     },
     "metadata": {
      "needs_background": "light"
     },
     "output_type": "display_data"
    }
   ],
   "source": [
    "probs = xgb.predict_proba(X_test)\n",
    "preds = probs[:,1]\n",
    "fpr, tpr, threshold = metrics.roc_curve(y_test, preds)\n",
    "roc_auc = metrics.auc(fpr, tpr)\n",
    "\n",
    "# method I: plt\n",
    "import matplotlib.pyplot as plt\n",
    "plt.title('Receiver Operating Characteristic')\n",
    "plt.plot(fpr, tpr, 'b', label = 'AUC = %0.2f' % roc_auc)\n",
    "plt.legend(loc = 'lower right')\n",
    "plt.plot([0, 1], [0, 1],'r--')\n",
    "plt.xlim([0, 1])\n",
    "plt.ylim([0, 1])\n",
    "plt.ylabel('True Positive Rate')\n",
    "plt.xlabel('False Positive Rate')\n",
    "plt.title('ROC-AUC Curve')\n",
    "plt.show()"
   ]
  },
  {
   "cell_type": "code",
   "execution_count": 225,
   "metadata": {},
   "outputs": [
    {
     "data": {
      "image/png": "[encoded data removed]",
      "text/plain": [
       "<Figure size 504x720 with 1 Axes>"
      ]
     },
     "metadata": {
      "needs_background": "light"
     },
     "output_type": "display_data"
    }
   ],
   "source": [
    "plt.figure(figsize=(7,10))\n",
    "sns.barplot(x=xgb.feature_importances_,y=X.columns)\n",
    "plt.title('Significant Features of the Final Model')\n",
    "plt.show()"
   ]
  },
  {
   "cell_type": "code",
   "execution_count": 36,
   "metadata": {},
   "outputs": [
    {
     "data": {
      "text/plain": [
       "18    0.230088\n",
       "19    0.183553\n",
       "9     0.097343\n",
       "8     0.087054\n",
       "10    0.080968\n",
       "17    0.074522\n",
       "11    0.055779\n",
       "7     0.052167\n",
       "12    0.046068\n",
       "13    0.037173\n",
       "6     0.020729\n",
       "14    0.017285\n",
       "16    0.008569\n",
       "5     0.005601\n",
       "15    0.002042\n",
       "4     0.000982\n",
       "3     0.000077\n",
       "Name: Missing Features, dtype: float64"
      ]
     },
     "execution_count": 36,
     "metadata": {},
     "output_type": "execute_result"
    }
   ],
   "source": [
    "df['Missing Features'].value_counts(normalize=True)"
   ]
  },
  {
   "cell_type": "code",
   "execution_count": 14,
   "metadata": {},
   "outputs": [
    {
     "name": "stdout",
     "output_type": "stream",
     "text": [
      "1 0.2339855699483092\n",
      "2 0.2151714051148419\n",
      "3 0.16626516826352178\n",
      "4 0.13535258593498412\n",
      "5 0.15159705883591734\n",
      "6 0.13227022674806588\n",
      "7 0.13244157877696516\n",
      "8 0.13219935225058965\n",
      "9 0.13219935225058965\n",
      "10 0.13216866737194055\n",
      "11 0.1308425623619205\n",
      "12 0.12806326846419935\n",
      "13 0.12423153375768592\n",
      "14 0.12162059077897991\n",
      "15 0.11850991819600942\n",
      "16 0.11543292347448564\n",
      "17 0.11349192713037237\n",
      "18 0.11326889580332444\n",
      "19 0.1120267800994399\n",
      "20 0.10869402186651167\n",
      "21 0.1083264476486393\n",
      "22 0.10489501838047743\n",
      "23 0.10375082459465934\n",
      "24 0.10171687762577764\n",
      "25 0.10125371354281931\n",
      "26 0.10021883050482716\n",
      "27 0.09845281602218481\n",
      "28 0.09637652949358222\n",
      "29 0.09650500577462706\n"
     ]
    }
   ],
   "source": [
    "from sklearn.model_selection import KFold\n",
    "scores=[]\n",
    "for i in np.arange(1,30):\n",
    "    kf = KFold(n_splits=3, shuffle=True, random_state=0)\n",
    "    gb = GradientBoostingClassifier(n_estimators=i, random_state=0)\n",
    "    results = cross_val_score(gb, X, y, cv=kf, scoring='roc_auc')\n",
    "    scores.append(1-np.mean(results))\n",
    "    print(i,1-np.mean(results))"
   ]
  },
  {
   "cell_type": "code",
   "execution_count": 16,
   "metadata": {},
   "outputs": [
    {
     "name": "stdout",
     "output_type": "stream",
     "text": [
      "accuracy train: 0.8935584870746965 \n",
      "\n",
      "accuracy test: 0.8925043247029895 \n",
      "\n",
      "precision : 0.9426494345718901 \n",
      "\n",
      "Recall : 0.5377526166809296 \n",
      "\n",
      "f1 score: 0.6848304480865156 \n",
      "\n",
      "Confusion Matrix \n",
      " [[54259   497]\n",
      " [ 7022  8169]]\n"
     ]
    }
   ],
   "source": [
    "gb = GradientBoostingClassifier(n_estimators=28, random_state=0)\n",
    "gb.fit(X_train, y_train)\n",
    "y_pred=gb.predict(X_test)\n",
    "print(\"accuracy train:\",gb.score(X_train,y_train),\"\\n\")\n",
    "print(\"accuracy test:\",gb.score(X_test,y_test),\"\\n\")\n",
    "print(\"precision :\",precision_score(y_test,y_pred),\"\\n\")\n",
    "print(\"Recall :\",recall_score(y_test,y_pred),\"\\n\")\n",
    "print(\"f1 score:\",f1_score(y_test,y_pred),\"\\n\")\n",
    "print(\"Confusion Matrix \\n\",confusion_matrix(y_test,y_pred))"
   ]
  },
  {
   "cell_type": "code",
   "execution_count": null,
   "metadata": {},
   "outputs": [],
   "source": []
  }
 ],
 "metadata": {
  "hide_input": false,
  "kernelspec": {
   "display_name": "Python 3",
   "language": "python",
   "name": "python3"
  },
  "language_info": {
   "codemirror_mode": {
    "name": "ipython",
    "version": 3
   },
   "file_extension": ".py",
   "mimetype": "text/x-python",
   "name": "python",
   "nbconvert_exporter": "python",
   "pygments_lexer": "ipython3",
   "version": "3.7.6"
  },
  "nbTranslate": {
   "displayLangs": [
    "*"
   ],
   "hotkey": "alt-t",
   "langInMainMenu": true,
   "sourceLang": "en",
   "targetLang": "fr",
   "useGoogleTranslate": true
  }
 },
 "nbformat": 4,
 "nbformat_minor": 2
}
