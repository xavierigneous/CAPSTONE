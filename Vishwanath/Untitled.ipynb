{
 "cells": [
  {
   "cell_type": "code",
   "execution_count": 31,
   "metadata": {},
   "outputs": [],
   "source": [
    "import pandas as pd\n",
    "import numpy as np\n",
    "import seaborn as sns\n",
    "import matplotlib.pyplot as plt\n",
    "import re\n",
    "from sklearn.preprocessing import LabelEncoder,StandardScaler\n",
    "from sklearn.impute import KNNImputer\n",
    "from sklearn.model_selection import KFold\n",
    "from sklearn.model_selection import train_test_split,cross_val_score\n",
    "#model selection from sklearn import model_selection\n",
    "from sklearn.linear_model import LogisticRegression\n",
    "from sklearn.naive_bayes import GaussianNB\n",
    "from sklearn.tree import DecisionTreeClassifier\n",
    "from sklearn.neighbors import KNeighborsClassifier\n",
    "#ensemble\n",
    "from sklearn.ensemble import RandomForestClassifier,BaggingClassifier,AdaBoostClassifier,GradientBoostingClassifier\n",
    "#metrics\n",
    "from sklearn.metrics import precision_score, recall_score, f1_score, roc_auc_score, accuracy_score, classification_report,confusion_matrix\n",
    "#pca\n",
    "from sklearn.decomposition import PCA\n",
    "#data_balance\n",
    "from sklearn.utils import resample\n",
    "from imblearn.over_sampling import SMOTE\n",
    "#warnings\n",
    "import warnings\n",
    "warnings.filterwarnings(\"ignore\")"
   ]
  },
  {
   "cell_type": "code",
   "execution_count": 17,
   "metadata": {},
   "outputs": [],
   "source": [
    "import os\n",
    "os.chdir(r'C:\\Users\\VISHY\\Desktop\\Great Learning\\Capstone\\Vehicle-Loan-Default-Prediction\\Data')\n",
    "\n",
    "df = pd.read_csv('train.csv')\n",
    "\n",
    "df=df.drop(['UniqueID','MobileNo_Avl_Flag'],axis=1)"
   ]
  },
  {
   "cell_type": "code",
   "execution_count": 18,
   "metadata": {},
   "outputs": [],
   "source": [
    "def credit_risk(df):\n",
    "    d1=[]\n",
    "    d2=[]\n",
    "    for i in df:\n",
    "        p = i.split(\"-\")\n",
    "        if len(p) == 1:\n",
    "            d1.append(p[0])\n",
    "            d2.append('unknown')\n",
    "        else:\n",
    "            d1.append(p[1])\n",
    "            d2.append(p[0])\n",
    "\n",
    "    return d2\n",
    "\n",
    "risk_map = {'No Bureau History Available':0, \n",
    "              'Not Scored: No Activity seen on the customer (Inactive)':0,\n",
    "              'Not Scored: Sufficient History Not Available':0,\n",
    "              'Not Scored: No Updates available in last 36 months':0,\n",
    "              'Not Scored: Only a Guarantor':0,\n",
    "              'Not Scored: More than 50 active Accounts found':0,\n",
    "              'Not Scored: Not Enough Info available on the customer':0,\n",
    "              'Very Low Risk':4,\n",
    "              'Low Risk':3,\n",
    "              'Medium Risk':2, \n",
    "              'High Risk':1,\n",
    "              'Very High Risk':0}\n",
    "\n",
    "sub_risk = {'unknown':0, 'A':13, 'B':12, 'C':11,'D':10,'E':9,'F':8,'G':7,'H':6,'I':5,'J':4,'K':3, 'L':2,'M':1}\n",
    "employment_map = {'Self employed':0, 'Salaried':1,np.nan:2}\n",
    "\n",
    "df.loc[:,'credit_risk_grade']  = credit_risk(df[\"PERFORM_CNS.SCORE.DESCRIPTION\"])\n",
    "df.loc[:,'sub_risk_label'] = df['credit_risk_grade'].apply(lambda x: sub_risk[x])\n",
    "\n",
    "df.loc[:,'employment_label'] = df['Employment.Type'].apply(lambda x: employment_map[x])\n",
    "\n",
    "df=df.drop(['PERFORM_CNS.SCORE.DESCRIPTION', 'credit_risk_grade','Employment.Type'],axis=1)"
   ]
  },
  {
   "cell_type": "code",
   "execution_count": 19,
   "metadata": {},
   "outputs": [],
   "source": [
    "def duration(dur):\n",
    "    yrs = int(dur.split(' ')[0].replace('yrs',''))\n",
    "    mon = int(dur.split(' ')[1].replace('mon',''))\n",
    "    return yrs*12+mon"
   ]
  },
  {
   "cell_type": "code",
   "execution_count": 20,
   "metadata": {},
   "outputs": [],
   "source": [
    "df['AVERAGE.ACCT.AGE'] = df['AVERAGE.ACCT.AGE'].apply(duration)\n",
    "df['CREDIT.HISTORY.LENGTH'] = df['CREDIT.HISTORY.LENGTH'].apply(duration)\n",
    "#df.drop(['AVERAGE.ACCT.AGE','CREDIT.HISTORY.LENGTH'],axis=1,inplace=True)"
   ]
  },
  {
   "cell_type": "code",
   "execution_count": 21,
   "metadata": {},
   "outputs": [],
   "source": [
    "def age(dur):\n",
    "    yr = int(dur.split('-')[2])\n",
    "    if yr >=0 and yr<=19:\n",
    "        return yr+2000\n",
    "    else:\n",
    "         return yr+1900\n",
    "\n",
    "df['Date.of.Birth'] = df['Date.of.Birth'].apply(age)\n",
    "df['DisbursalDate'] = df['DisbursalDate'].apply(age)\n",
    "df['Age']=df['DisbursalDate']-df['Date.of.Birth']\n",
    "df=df.drop(['DisbursalDate','Date.of.Birth'],axis=1)"
   ]
  },
  {
   "cell_type": "code",
   "execution_count": 7,
   "metadata": {},
   "outputs": [],
   "source": [
    "dummies=['manufacturer_id']"
   ]
  },
  {
   "cell_type": "code",
   "execution_count": 9,
   "metadata": {},
   "outputs": [],
   "source": [
    "df=pd.get_dummies(df,columns=dummies,drop_first=True)"
   ]
  },
  {
   "cell_type": "code",
   "execution_count": 10,
   "metadata": {},
   "outputs": [
    {
     "data": {
      "text/html": [
       "<div>\n",
       "<style scoped>\n",
       "    .dataframe tbody tr th:only-of-type {\n",
       "        vertical-align: middle;\n",
       "    }\n",
       "\n",
       "    .dataframe tbody tr th {\n",
       "        vertical-align: top;\n",
       "    }\n",
       "\n",
       "    .dataframe thead th {\n",
       "        text-align: right;\n",
       "    }\n",
       "</style>\n",
       "<table border=\"1\" class=\"dataframe\">\n",
       "  <thead>\n",
       "    <tr style=\"text-align: right;\">\n",
       "      <th></th>\n",
       "      <th>disbursed_amount</th>\n",
       "      <th>asset_cost</th>\n",
       "      <th>ltv</th>\n",
       "      <th>branch_id</th>\n",
       "      <th>supplier_id</th>\n",
       "      <th>Current_pincode_ID</th>\n",
       "      <th>State_ID</th>\n",
       "      <th>Employee_code_ID</th>\n",
       "      <th>Aadhar_flag</th>\n",
       "      <th>PAN_flag</th>\n",
       "      <th>...</th>\n",
       "      <th>manufacturer_id_48</th>\n",
       "      <th>manufacturer_id_49</th>\n",
       "      <th>manufacturer_id_51</th>\n",
       "      <th>manufacturer_id_67</th>\n",
       "      <th>manufacturer_id_86</th>\n",
       "      <th>manufacturer_id_120</th>\n",
       "      <th>manufacturer_id_145</th>\n",
       "      <th>manufacturer_id_152</th>\n",
       "      <th>manufacturer_id_153</th>\n",
       "      <th>manufacturer_id_156</th>\n",
       "    </tr>\n",
       "  </thead>\n",
       "  <tbody>\n",
       "    <tr>\n",
       "      <th>0</th>\n",
       "      <td>50578</td>\n",
       "      <td>58400</td>\n",
       "      <td>89.55</td>\n",
       "      <td>67</td>\n",
       "      <td>22807</td>\n",
       "      <td>1441</td>\n",
       "      <td>6</td>\n",
       "      <td>1998</td>\n",
       "      <td>1</td>\n",
       "      <td>0</td>\n",
       "      <td>...</td>\n",
       "      <td>0</td>\n",
       "      <td>0</td>\n",
       "      <td>0</td>\n",
       "      <td>0</td>\n",
       "      <td>0</td>\n",
       "      <td>0</td>\n",
       "      <td>0</td>\n",
       "      <td>0</td>\n",
       "      <td>0</td>\n",
       "      <td>0</td>\n",
       "    </tr>\n",
       "    <tr>\n",
       "      <th>1</th>\n",
       "      <td>47145</td>\n",
       "      <td>65550</td>\n",
       "      <td>73.23</td>\n",
       "      <td>67</td>\n",
       "      <td>22807</td>\n",
       "      <td>1502</td>\n",
       "      <td>6</td>\n",
       "      <td>1998</td>\n",
       "      <td>1</td>\n",
       "      <td>0</td>\n",
       "      <td>...</td>\n",
       "      <td>0</td>\n",
       "      <td>0</td>\n",
       "      <td>0</td>\n",
       "      <td>0</td>\n",
       "      <td>0</td>\n",
       "      <td>0</td>\n",
       "      <td>0</td>\n",
       "      <td>0</td>\n",
       "      <td>0</td>\n",
       "      <td>0</td>\n",
       "    </tr>\n",
       "    <tr>\n",
       "      <th>2</th>\n",
       "      <td>53278</td>\n",
       "      <td>61360</td>\n",
       "      <td>89.63</td>\n",
       "      <td>67</td>\n",
       "      <td>22807</td>\n",
       "      <td>1497</td>\n",
       "      <td>6</td>\n",
       "      <td>1998</td>\n",
       "      <td>1</td>\n",
       "      <td>0</td>\n",
       "      <td>...</td>\n",
       "      <td>0</td>\n",
       "      <td>0</td>\n",
       "      <td>0</td>\n",
       "      <td>0</td>\n",
       "      <td>0</td>\n",
       "      <td>0</td>\n",
       "      <td>0</td>\n",
       "      <td>0</td>\n",
       "      <td>0</td>\n",
       "      <td>0</td>\n",
       "    </tr>\n",
       "    <tr>\n",
       "      <th>3</th>\n",
       "      <td>57513</td>\n",
       "      <td>66113</td>\n",
       "      <td>88.48</td>\n",
       "      <td>67</td>\n",
       "      <td>22807</td>\n",
       "      <td>1501</td>\n",
       "      <td>6</td>\n",
       "      <td>1998</td>\n",
       "      <td>1</td>\n",
       "      <td>0</td>\n",
       "      <td>...</td>\n",
       "      <td>0</td>\n",
       "      <td>0</td>\n",
       "      <td>0</td>\n",
       "      <td>0</td>\n",
       "      <td>0</td>\n",
       "      <td>0</td>\n",
       "      <td>0</td>\n",
       "      <td>0</td>\n",
       "      <td>0</td>\n",
       "      <td>0</td>\n",
       "    </tr>\n",
       "    <tr>\n",
       "      <th>4</th>\n",
       "      <td>52378</td>\n",
       "      <td>60300</td>\n",
       "      <td>88.39</td>\n",
       "      <td>67</td>\n",
       "      <td>22807</td>\n",
       "      <td>1495</td>\n",
       "      <td>6</td>\n",
       "      <td>1998</td>\n",
       "      <td>1</td>\n",
       "      <td>0</td>\n",
       "      <td>...</td>\n",
       "      <td>0</td>\n",
       "      <td>0</td>\n",
       "      <td>0</td>\n",
       "      <td>0</td>\n",
       "      <td>0</td>\n",
       "      <td>0</td>\n",
       "      <td>0</td>\n",
       "      <td>0</td>\n",
       "      <td>0</td>\n",
       "      <td>0</td>\n",
       "    </tr>\n",
       "  </tbody>\n",
       "</table>\n",
       "<p>5 rows × 47 columns</p>\n",
       "</div>"
      ],
      "text/plain": [
       "   disbursed_amount  asset_cost    ltv  branch_id  supplier_id  \\\n",
       "0             50578       58400  89.55         67        22807   \n",
       "1             47145       65550  73.23         67        22807   \n",
       "2             53278       61360  89.63         67        22807   \n",
       "3             57513       66113  88.48         67        22807   \n",
       "4             52378       60300  88.39         67        22807   \n",
       "\n",
       "   Current_pincode_ID  State_ID  Employee_code_ID  Aadhar_flag  PAN_flag  ...  \\\n",
       "0                1441         6              1998            1         0  ...   \n",
       "1                1502         6              1998            1         0  ...   \n",
       "2                1497         6              1998            1         0  ...   \n",
       "3                1501         6              1998            1         0  ...   \n",
       "4                1495         6              1998            1         0  ...   \n",
       "\n",
       "   manufacturer_id_48  manufacturer_id_49  manufacturer_id_51  \\\n",
       "0                   0                   0                   0   \n",
       "1                   0                   0                   0   \n",
       "2                   0                   0                   0   \n",
       "3                   0                   0                   0   \n",
       "4                   0                   0                   0   \n",
       "\n",
       "   manufacturer_id_67  manufacturer_id_86  manufacturer_id_120  \\\n",
       "0                   0                   0                    0   \n",
       "1                   0                   0                    0   \n",
       "2                   0                   0                    0   \n",
       "3                   0                   0                    0   \n",
       "4                   0                   0                    0   \n",
       "\n",
       "   manufacturer_id_145  manufacturer_id_152  manufacturer_id_153  \\\n",
       "0                    0                    0                    0   \n",
       "1                    0                    0                    0   \n",
       "2                    0                    0                    0   \n",
       "3                    0                    0                    0   \n",
       "4                    0                    0                    0   \n",
       "\n",
       "   manufacturer_id_156  \n",
       "0                    0  \n",
       "1                    0  \n",
       "2                    0  \n",
       "3                    0  \n",
       "4                    0  \n",
       "\n",
       "[5 rows x 47 columns]"
      ]
     },
     "execution_count": 10,
     "metadata": {},
     "output_type": "execute_result"
    }
   ],
   "source": [
    "df.head()"
   ]
  },
  {
   "cell_type": "code",
   "execution_count": 12,
   "metadata": {},
   "outputs": [
    {
     "data": {
      "text/plain": [
       "Index(['disbursed_amount', 'asset_cost', 'ltv', 'branch_id', 'supplier_id',\n",
       "       'Current_pincode_ID', 'State_ID', 'Employee_code_ID', 'Aadhar_flag',\n",
       "       'PAN_flag', 'VoterID_flag', 'Driving_flag', 'Passport_flag',\n",
       "       'PERFORM_CNS.SCORE', 'PRI.NO.OF.ACCTS', 'PRI.ACTIVE.ACCTS',\n",
       "       'PRI.OVERDUE.ACCTS', 'PRI.CURRENT.BALANCE', 'PRI.SANCTIONED.AMOUNT',\n",
       "       'PRI.DISBURSED.AMOUNT', 'SEC.NO.OF.ACCTS', 'SEC.ACTIVE.ACCTS',\n",
       "       'SEC.OVERDUE.ACCTS', 'SEC.CURRENT.BALANCE', 'SEC.SANCTIONED.AMOUNT',\n",
       "       'SEC.DISBURSED.AMOUNT', 'PRIMARY.INSTAL.AMT', 'SEC.INSTAL.AMT',\n",
       "       'NEW.ACCTS.IN.LAST.SIX.MONTHS', 'DELINQUENT.ACCTS.IN.LAST.SIX.MONTHS',\n",
       "       'AVERAGE.ACCT.AGE', 'CREDIT.HISTORY.LENGTH', 'NO.OF_INQUIRIES',\n",
       "       'loan_default', 'sub_risk_label', 'employment_label', 'Age',\n",
       "       'manufacturer_id_48', 'manufacturer_id_49', 'manufacturer_id_51',\n",
       "       'manufacturer_id_67', 'manufacturer_id_86', 'manufacturer_id_120',\n",
       "       'manufacturer_id_145', 'manufacturer_id_152', 'manufacturer_id_153',\n",
       "       'manufacturer_id_156'],\n",
       "      dtype='object')"
      ]
     },
     "execution_count": 12,
     "metadata": {},
     "output_type": "execute_result"
    }
   ],
   "source": [
    "df.columns"
   ]
  },
  {
   "cell_type": "markdown",
   "metadata": {},
   "source": [
    "## Stats"
   ]
  },
  {
   "cell_type": "code",
   "execution_count": 10,
   "metadata": {},
   "outputs": [],
   "source": [
    "x=df.drop('loan_default',axis=1)"
   ]
  },
  {
   "cell_type": "code",
   "execution_count": 11,
   "metadata": {},
   "outputs": [
    {
     "name": "stdout",
     "output_type": "stream",
     "text": [
      "disbursed_amount           34.74096134329803\n",
      "asset_cost           34.32358306832174\n",
      "ltv           16.347967701981716\n",
      "supplier_id           1.411587015448723\n",
      "Current_pincode_ID           297.9056742424716\n",
      "Employee_code_ID           1.176848887603842\n",
      "Aadhar_flag           8.5728002704886\n",
      "PAN_flag           1.230382067494454\n",
      "VoterID_flag           7.349892470949365\n",
      "Driving_flag           1.9069029854373136\n",
      "Passport_flag           1.0878054143507911\n",
      "PERFORM_CNS.SCORE           28.35773384610737\n",
      "PRI.NO.OF.ACCTS           2.6904577281469986\n",
      "PRI.ACTIVE.ACCTS           4.667306777256863\n",
      "PRI.OVERDUE.ACCTS           1.918212598476091\n",
      "PRI.CURRENT.BALANCE           1.563478754509351\n",
      "PRI.SANCTIONED.AMOUNT           407.62506834109746\n",
      "PRI.DISBURSED.AMOUNT           410.21066924891045\n",
      "SEC.NO.OF.ACCTS           3.4513466159405195\n",
      "SEC.ACTIVE.ACCTS           3.8546637887356163\n",
      "SEC.OVERDUE.ACCTS           1.4327625670807622\n",
      "SEC.CURRENT.BALANCE           7.60803420579862\n",
      "SEC.SANCTIONED.AMOUNT           1546.8462995985035\n",
      "SEC.DISBURSED.AMOUNT           1542.4713260653025\n",
      "PRIMARY.INSTAL.AMT           1.1006643303294112\n",
      "SEC.INSTAL.AMT           1.072726691375958\n",
      "NEW.ACCTS.IN.LAST.SIX.MONTHS           2.437544055207959\n",
      "DELINQUENT.ACCTS.IN.LAST.SIX.MONTHS           1.4542305636454136\n",
      "AVERAGE.ACCT.AGE           4.224291548490338\n",
      "CREDIT.HISTORY.LENGTH           4.9403852479370345\n",
      "NO.OF_INQUIRIES           1.103675766867984\n",
      "credit_risk_label           63.477669144606935\n",
      "sub_risk_label           76.04680364986389\n",
      "Age           1.1869620211833476\n",
      "branch_id_2           inf\n",
      "branch_id_3           32.837296458745655\n",
      "branch_id_5           inf\n",
      "branch_id_7           1.7839354236667733\n",
      "branch_id_8           1.583480768349201\n",
      "branch_id_9           1.472689915773756\n",
      "branch_id_10           1.9040995371607274\n",
      "branch_id_11           2.329587138178096\n",
      "branch_id_13           inf\n",
      "branch_id_14           7.01121754534007\n",
      "branch_id_15           26.651024600969812\n",
      "branch_id_16           inf\n",
      "branch_id_17           inf\n",
      "branch_id_18           inf\n",
      "branch_id_19           inf\n",
      "branch_id_20           inf\n",
      "branch_id_29           1.433874496705594\n",
      "branch_id_34           inf\n",
      "branch_id_35           inf\n",
      "branch_id_36           inf\n",
      "branch_id_42           1.4978647170780939\n",
      "branch_id_43           inf\n",
      "branch_id_48           inf\n",
      "branch_id_61           inf\n",
      "branch_id_62           6.968730512515286\n",
      "branch_id_63           inf\n",
      "branch_id_64           inf\n",
      "branch_id_65           inf\n",
      "branch_id_66           inf\n",
      "branch_id_67           inf\n",
      "branch_id_68           inf\n",
      "branch_id_69           inf\n",
      "branch_id_70           inf\n",
      "branch_id_72           12.09639969276359\n",
      "branch_id_73           11.299598551176816\n",
      "branch_id_74           inf\n",
      "branch_id_76           inf\n",
      "branch_id_77           inf\n",
      "branch_id_78           inf\n",
      "branch_id_79           inf\n",
      "branch_id_82           inf\n",
      "branch_id_84           inf\n",
      "branch_id_85           inf\n",
      "branch_id_97           inf\n",
      "branch_id_100           2.2731528578554436\n",
      "branch_id_101           2.4431281766850157\n",
      "branch_id_103           inf\n",
      "branch_id_104           inf\n",
      "branch_id_105           inf\n",
      "branch_id_111           inf\n",
      "branch_id_117           inf\n",
      "branch_id_120           inf\n",
      "branch_id_121           inf\n",
      "branch_id_130           inf\n",
      "branch_id_135           inf\n",
      "branch_id_136           inf\n",
      "branch_id_138           inf\n",
      "branch_id_142           3.1098137764074156\n",
      "branch_id_146           inf\n",
      "branch_id_147           inf\n",
      "branch_id_152           1.8563483951607869\n",
      "branch_id_153           7.008434224009696\n",
      "branch_id_158           inf\n",
      "branch_id_159           inf\n",
      "branch_id_160           13.13961343550589\n",
      "branch_id_162           inf\n",
      "branch_id_165           inf\n",
      "branch_id_202           inf\n",
      "branch_id_207           inf\n",
      "branch_id_217           inf\n",
      "branch_id_248           inf\n",
      "branch_id_249           inf\n",
      "branch_id_250           inf\n",
      "branch_id_251           inf\n",
      "branch_id_254           inf\n",
      "branch_id_255           1.4353400630331312\n",
      "branch_id_257           inf\n",
      "branch_id_258           2.738684739793799\n",
      "branch_id_259           2.609060504186695\n",
      "branch_id_260           inf\n",
      "branch_id_261           1.7990472923862468\n",
      "manufacturer_id_48           1.5058107283088682\n",
      "manufacturer_id_49           1.3737019204655951\n",
      "manufacturer_id_51           1.5099491720576304\n",
      "manufacturer_id_67           1.6535193916989412\n",
      "manufacturer_id_86           1.766312950486127\n",
      "manufacturer_id_120           1.231760410817398\n",
      "manufacturer_id_145           1.042067301303479\n",
      "manufacturer_id_152           1.0521414654806165\n",
      "manufacturer_id_153           1.0105396571222407\n",
      "manufacturer_id_156           1.0488107887056528\n",
      "State_ID_2           inf\n",
      "State_ID_3           360.98707682739075\n",
      "State_ID_4           inf\n",
      "State_ID_5           inf\n",
      "State_ID_6           inf\n",
      "State_ID_7           inf\n",
      "State_ID_8           inf\n",
      "State_ID_9           inf\n",
      "State_ID_10           inf\n",
      "State_ID_11           34.59624251443102\n",
      "State_ID_12           inf\n",
      "State_ID_13           inf\n",
      "State_ID_14           inf\n",
      "State_ID_15           2.681681900439807\n",
      "State_ID_16           2.9944848126476016\n",
      "State_ID_17           inf\n",
      "State_ID_18           inf\n",
      "State_ID_19           inf\n",
      "State_ID_20           inf\n",
      "State_ID_21           inf\n",
      "State_ID_22           1.3353541773775257\n",
      "employment_label_1           1.2168786942538565\n",
      "employment_label_2           1.1322114978801017\n",
      "['disbursed_amount', 'asset_cost', 'ltv', 'Current_pincode_ID', 'PERFORM_CNS.SCORE', 'PRI.SANCTIONED.AMOUNT', 'PRI.DISBURSED.AMOUNT', 'SEC.SANCTIONED.AMOUNT', 'SEC.DISBURSED.AMOUNT', 'credit_risk_label', 'sub_risk_label', 'branch_id_2', 'branch_id_3', 'branch_id_5', 'branch_id_13', 'branch_id_15', 'branch_id_16', 'branch_id_17', 'branch_id_18', 'branch_id_19', 'branch_id_20', 'branch_id_34', 'branch_id_35', 'branch_id_36', 'branch_id_43', 'branch_id_48', 'branch_id_61', 'branch_id_63', 'branch_id_64', 'branch_id_65', 'branch_id_66', 'branch_id_67', 'branch_id_68', 'branch_id_69', 'branch_id_70', 'branch_id_72', 'branch_id_73', 'branch_id_74', 'branch_id_76', 'branch_id_77', 'branch_id_78', 'branch_id_79', 'branch_id_82', 'branch_id_84', 'branch_id_85', 'branch_id_97', 'branch_id_103', 'branch_id_104', 'branch_id_105', 'branch_id_111', 'branch_id_117', 'branch_id_120', 'branch_id_121', 'branch_id_130', 'branch_id_135', 'branch_id_136', 'branch_id_138', 'branch_id_146', 'branch_id_147', 'branch_id_158', 'branch_id_159', 'branch_id_160', 'branch_id_162', 'branch_id_165', 'branch_id_202', 'branch_id_207', 'branch_id_217', 'branch_id_248', 'branch_id_249', 'branch_id_250', 'branch_id_251', 'branch_id_254', 'branch_id_257', 'branch_id_260', 'State_ID_2', 'State_ID_3', 'State_ID_4', 'State_ID_5', 'State_ID_6', 'State_ID_7', 'State_ID_8', 'State_ID_9', 'State_ID_10', 'State_ID_11', 'State_ID_12', 'State_ID_13', 'State_ID_14', 'State_ID_17', 'State_ID_18', 'State_ID_19', 'State_ID_20', 'State_ID_21']\n"
     ]
    }
   ],
   "source": [
    "from statsmodels.stats.outliers_influence import variance_inflation_factor\n",
    "feats=[]\n",
    "vif=0\n",
    "for i in range(x.shape[1]):\n",
    "    vif=variance_inflation_factor(x.values, i)\n",
    "    print(x.columns[i],\"         \", vif)\n",
    "    if (vif>10):\n",
    "        feats.append(x.columns[i])\n",
    "print(feats)"
   ]
  },
  {
   "cell_type": "code",
   "execution_count": 13,
   "metadata": {},
   "outputs": [],
   "source": [
    "df=df.drop(['asset_cost','PRI.SANCTIONED.AMOUNT','SEC.SANCTIONED.AMOUNT'],axis=1)"
   ]
  },
  {
   "cell_type": "code",
   "execution_count": 14,
   "metadata": {},
   "outputs": [],
   "source": [
    "df=df.drop(['PERFORM_CNS.SCORE'],axis=1)"
   ]
  },
  {
   "cell_type": "code",
   "execution_count": 8,
   "metadata": {},
   "outputs": [],
   "source": [
    "from sklearn.feature_selection import SelectKBest\n",
    "from sklearn.feature_selection import chi2, f_classif"
   ]
  },
  {
   "cell_type": "code",
   "execution_count": 32,
   "metadata": {},
   "outputs": [
    {
     "data": {
      "text/plain": [
       "Index(['disbursed_amount', 'ltv', 'branch_id', 'manufacturer_id',\n",
       "       'Current_pincode_ID', 'State_ID', 'Employee_code_ID', 'Aadhar_flag',\n",
       "       'PAN_flag', 'VoterID_flag', 'Driving_flag', 'Passport_flag',\n",
       "       'PRI.NO.OF.ACCTS', 'PRI.ACTIVE.ACCTS', 'PRI.OVERDUE.ACCTS',\n",
       "       'PRI.CURRENT.BALANCE', 'PRI.DISBURSED.AMOUNT', 'SEC.NO.OF.ACCTS',\n",
       "       'SEC.ACTIVE.ACCTS', 'SEC.OVERDUE.ACCTS', 'SEC.CURRENT.BALANCE',\n",
       "       'SEC.DISBURSED.AMOUNT', 'PRIMARY.INSTAL.AMT', 'SEC.INSTAL.AMT',\n",
       "       'NEW.ACCTS.IN.LAST.SIX.MONTHS', 'DELINQUENT.ACCTS.IN.LAST.SIX.MONTHS',\n",
       "       'AVERAGE.ACCT.AGE', 'CREDIT.HISTORY.LENGTH', 'NO.OF_INQUIRIES',\n",
       "       'loan_default', 'sub_risk_label', 'employment_label', 'Age'],\n",
       "      dtype='object')"
      ]
     },
     "execution_count": 32,
     "metadata": {},
     "output_type": "execute_result"
    }
   ],
   "source": [
    "df.columns"
   ]
  },
  {
   "cell_type": "code",
   "execution_count": 9,
   "metadata": {},
   "outputs": [],
   "source": [
    "num_cols=['disbursed_amount','PRI.NO.OF.ACCTS','PRI.ACTIVE.ACCTS', 'PRI.OVERDUE.ACCTS',\n",
    "       'PRI.CURRENT.BALANCE', 'PRI.DISBURSED.AMOUNT', 'SEC.NO.OF.ACCTS',\n",
    "       'SEC.ACTIVE.ACCTS', 'SEC.OVERDUE.ACCTS', 'SEC.CURRENT.BALANCE',\n",
    "       'SEC.DISBURSED.AMOUNT', 'PRIMARY.INSTAL.AMT', 'SEC.INSTAL.AMT',\n",
    "       'NEW.ACCTS.IN.LAST.SIX.MONTHS', 'DELINQUENT.ACCTS.IN.LAST.SIX.MONTHS',\n",
    "       'AVERAGE.ACCT.AGE', 'CREDIT.HISTORY.LENGTH', 'NO.OF_INQUIRIES','Age']\n",
    "cat_cols=['branch_id', 'manufacturer_id',\n",
    "       'Current_pincode_ID', 'State_ID', 'Employee_code_ID', 'Aadhar_flag',\n",
    "       'PAN_flag', 'VoterID_flag', 'Driving_flag', 'Passport_flag','sub_risk_label', 'employment_label']"
   ]
  },
  {
   "cell_type": "code",
   "execution_count": 14,
   "metadata": {},
   "outputs": [],
   "source": [
    "c = SelectKBest(score_func=chi2, k=12)\n",
    "catcols = c.fit(df[cat_cols],df['loan_default'])\n",
    "n = SelectKBest(score_func=f_classif, k=5)\n",
    "numcols=n.fit(df[num_cols],df['loan_default'])"
   ]
  },
  {
   "cell_type": "code",
   "execution_count": 47,
   "metadata": {},
   "outputs": [
    {
     "data": {
      "text/plain": [
       "Text(0.5, 1.0, 'Best Numerical Features')"
      ]
     },
     "execution_count": 47,
     "metadata": {},
     "output_type": "execute_result"
    },
    {
     "data": {
      "image/png": "[encoded data removed]",
      "text/plain": [
       "<Figure size 864x360 with 1 Axes>"
      ]
     },
     "metadata": {
      "needs_background": "light"
     },
     "output_type": "display_data"
    }
   ],
   "source": [
    "catsc=catcols.scores_\n",
    "plt.figure(figsize=(12,5))\n",
    "sns.barplot(x=catsc,y=cat_cols)\n",
    "plt.title('Best Numerical Features')"
   ]
  },
  {
   "cell_type": "code",
   "execution_count": 125,
   "metadata": {},
   "outputs": [],
   "source": [
    "cat_cols=['branch_id','supplier_id','manufacturer_id','Current_pincode_ID','State_ID','Employee_code_ID','PAN_flag','Driving_flag','Passport_flag','employment_label','Employee_code_ID','sub_risk_label']"
   ]
  },
  {
   "cell_type": "code",
   "execution_count": 15,
   "metadata": {},
   "outputs": [
    {
     "data": {
      "text/plain": [
       "['disbursed_amount',\n",
       " 'asset_cost',\n",
       " 'ltv',\n",
       " 'supplier_id',\n",
       " 'Current_pincode_ID',\n",
       " 'Employee_code_ID',\n",
       " 'Aadhar_flag',\n",
       " 'PAN_flag',\n",
       " 'VoterID_flag',\n",
       " 'Driving_flag',\n",
       " 'Passport_flag',\n",
       " 'PERFORM_CNS.SCORE',\n",
       " 'PRI.NO.OF.ACCTS',\n",
       " 'PRI.ACTIVE.ACCTS',\n",
       " 'PRI.OVERDUE.ACCTS',\n",
       " 'PRI.CURRENT.BALANCE',\n",
       " 'PRI.SANCTIONED.AMOUNT',\n",
       " 'PRI.DISBURSED.AMOUNT',\n",
       " 'SEC.NO.OF.ACCTS',\n",
       " 'SEC.ACTIVE.ACCTS',\n",
       " 'SEC.OVERDUE.ACCTS',\n",
       " 'SEC.CURRENT.BALANCE',\n",
       " 'SEC.SANCTIONED.AMOUNT',\n",
       " 'SEC.DISBURSED.AMOUNT',\n",
       " 'PRIMARY.INSTAL.AMT',\n",
       " 'SEC.INSTAL.AMT',\n",
       " 'NEW.ACCTS.IN.LAST.SIX.MONTHS',\n",
       " 'DELINQUENT.ACCTS.IN.LAST.SIX.MONTHS',\n",
       " 'AVERAGE.ACCT.AGE',\n",
       " 'CREDIT.HISTORY.LENGTH',\n",
       " 'NO.OF_INQUIRIES',\n",
       " 'loan_default',\n",
       " 'credit_risk_label',\n",
       " 'sub_risk_label',\n",
       " 'Age',\n",
       " 'branch_id_2',\n",
       " 'branch_id_3',\n",
       " 'branch_id_5',\n",
       " 'branch_id_7',\n",
       " 'branch_id_8',\n",
       " 'branch_id_9',\n",
       " 'branch_id_10',\n",
       " 'branch_id_11',\n",
       " 'branch_id_13',\n",
       " 'branch_id_14',\n",
       " 'branch_id_15',\n",
       " 'branch_id_16',\n",
       " 'branch_id_17',\n",
       " 'branch_id_18',\n",
       " 'branch_id_19',\n",
       " 'branch_id_20',\n",
       " 'branch_id_29',\n",
       " 'branch_id_34',\n",
       " 'branch_id_35',\n",
       " 'branch_id_36',\n",
       " 'branch_id_42',\n",
       " 'branch_id_43',\n",
       " 'branch_id_48',\n",
       " 'branch_id_61',\n",
       " 'branch_id_62',\n",
       " 'branch_id_63',\n",
       " 'branch_id_64',\n",
       " 'branch_id_65',\n",
       " 'branch_id_66',\n",
       " 'branch_id_67',\n",
       " 'branch_id_68',\n",
       " 'branch_id_69',\n",
       " 'branch_id_70',\n",
       " 'branch_id_72',\n",
       " 'branch_id_73',\n",
       " 'branch_id_74',\n",
       " 'branch_id_76',\n",
       " 'branch_id_77',\n",
       " 'branch_id_78',\n",
       " 'branch_id_79',\n",
       " 'branch_id_82',\n",
       " 'branch_id_84',\n",
       " 'branch_id_85',\n",
       " 'branch_id_97',\n",
       " 'branch_id_100',\n",
       " 'branch_id_101',\n",
       " 'branch_id_103',\n",
       " 'branch_id_104',\n",
       " 'branch_id_105',\n",
       " 'branch_id_111',\n",
       " 'branch_id_117',\n",
       " 'branch_id_120',\n",
       " 'branch_id_121',\n",
       " 'branch_id_130',\n",
       " 'branch_id_135',\n",
       " 'branch_id_136',\n",
       " 'branch_id_138',\n",
       " 'branch_id_142',\n",
       " 'branch_id_146',\n",
       " 'branch_id_147',\n",
       " 'branch_id_152',\n",
       " 'branch_id_153',\n",
       " 'branch_id_158',\n",
       " 'branch_id_159',\n",
       " 'branch_id_160',\n",
       " 'branch_id_162',\n",
       " 'branch_id_165',\n",
       " 'branch_id_202',\n",
       " 'branch_id_207',\n",
       " 'branch_id_217',\n",
       " 'branch_id_248',\n",
       " 'branch_id_249',\n",
       " 'branch_id_250',\n",
       " 'branch_id_251',\n",
       " 'branch_id_254',\n",
       " 'branch_id_255',\n",
       " 'branch_id_257',\n",
       " 'branch_id_258',\n",
       " 'branch_id_259',\n",
       " 'branch_id_260',\n",
       " 'branch_id_261',\n",
       " 'manufacturer_id_48',\n",
       " 'manufacturer_id_49',\n",
       " 'manufacturer_id_51',\n",
       " 'manufacturer_id_67',\n",
       " 'manufacturer_id_86',\n",
       " 'manufacturer_id_120',\n",
       " 'manufacturer_id_145',\n",
       " 'manufacturer_id_152',\n",
       " 'manufacturer_id_153',\n",
       " 'manufacturer_id_156',\n",
       " 'State_ID_2',\n",
       " 'State_ID_3',\n",
       " 'State_ID_4',\n",
       " 'State_ID_5',\n",
       " 'State_ID_6',\n",
       " 'State_ID_7',\n",
       " 'State_ID_8',\n",
       " 'State_ID_9',\n",
       " 'State_ID_10',\n",
       " 'State_ID_11',\n",
       " 'State_ID_12',\n",
       " 'State_ID_13',\n",
       " 'State_ID_14',\n",
       " 'State_ID_15',\n",
       " 'State_ID_16',\n",
       " 'State_ID_17',\n",
       " 'State_ID_18',\n",
       " 'State_ID_19',\n",
       " 'State_ID_20',\n",
       " 'State_ID_21',\n",
       " 'State_ID_22',\n",
       " 'employment_label_1',\n",
       " 'employment_label_2']"
      ]
     },
     "execution_count": 15,
     "metadata": {},
     "output_type": "execute_result"
    }
   ],
   "source": [
    "list(df.columns)"
   ]
  },
  {
   "cell_type": "code",
   "execution_count": 16,
   "metadata": {},
   "outputs": [],
   "source": [
    "cats=['supplier_id',\n",
    " 'Current_pincode_ID',\n",
    " 'Employee_code_ID',\n",
    " 'Aadhar_flag',\n",
    " 'PAN_flag',\n",
    " 'VoterID_flag',\n",
    " 'Driving_flag',\n",
    " 'Passport_flag','credit_risk_label',\n",
    " 'sub_risk_label','branch_id_2',\n",
    " 'branch_id_3',\n",
    " 'branch_id_5',\n",
    " 'branch_id_7',\n",
    " 'branch_id_8',\n",
    " 'branch_id_9',\n",
    " 'branch_id_10',\n",
    " 'branch_id_11',\n",
    " 'branch_id_13',\n",
    " 'branch_id_14',\n",
    " 'branch_id_15',\n",
    " 'branch_id_16',\n",
    " 'branch_id_17',\n",
    " 'branch_id_18',\n",
    " 'branch_id_19',\n",
    " 'branch_id_20',\n",
    " 'branch_id_29',\n",
    " 'branch_id_34',\n",
    " 'branch_id_35',\n",
    " 'branch_id_36',\n",
    " 'branch_id_42',\n",
    " 'branch_id_43',\n",
    " 'branch_id_48',\n",
    " 'branch_id_61',\n",
    " 'branch_id_62',\n",
    " 'branch_id_63',\n",
    " 'branch_id_64',\n",
    " 'branch_id_65',\n",
    " 'branch_id_66',\n",
    " 'branch_id_67',\n",
    " 'branch_id_68',\n",
    " 'branch_id_69',\n",
    " 'branch_id_70',\n",
    " 'branch_id_72',\n",
    " 'branch_id_73',\n",
    " 'branch_id_74',\n",
    " 'branch_id_76',\n",
    " 'branch_id_77',\n",
    " 'branch_id_78',\n",
    " 'branch_id_79',\n",
    " 'branch_id_82',\n",
    " 'branch_id_84',\n",
    " 'branch_id_85',\n",
    " 'branch_id_97',\n",
    " 'branch_id_100',\n",
    " 'branch_id_101',\n",
    " 'branch_id_103',\n",
    " 'branch_id_104',\n",
    " 'branch_id_105',\n",
    " 'branch_id_111',\n",
    " 'branch_id_117',\n",
    " 'branch_id_120',\n",
    " 'branch_id_121',\n",
    " 'branch_id_130',\n",
    " 'branch_id_135',\n",
    " 'branch_id_136',\n",
    " 'branch_id_138',\n",
    " 'branch_id_142',\n",
    " 'branch_id_146',\n",
    " 'branch_id_147',\n",
    " 'branch_id_152',\n",
    " 'branch_id_153',\n",
    " 'branch_id_158',\n",
    " 'branch_id_159',\n",
    " 'branch_id_160',\n",
    " 'branch_id_162',\n",
    " 'branch_id_165',\n",
    " 'branch_id_202',\n",
    " 'branch_id_207',\n",
    " 'branch_id_217',\n",
    " 'branch_id_248',\n",
    " 'branch_id_249',\n",
    " 'branch_id_250',\n",
    " 'branch_id_251',\n",
    " 'branch_id_254',\n",
    " 'branch_id_255',\n",
    " 'branch_id_257',\n",
    " 'branch_id_258',\n",
    " 'branch_id_259',\n",
    " 'branch_id_260',\n",
    " 'branch_id_261',\n",
    " 'manufacturer_id_48',\n",
    " 'manufacturer_id_49',\n",
    " 'manufacturer_id_51',\n",
    " 'manufacturer_id_67',\n",
    " 'manufacturer_id_86',\n",
    " 'manufacturer_id_120',\n",
    " 'manufacturer_id_145',\n",
    " 'manufacturer_id_152',\n",
    " 'manufacturer_id_153',\n",
    " 'manufacturer_id_156',\n",
    " 'State_ID_2',\n",
    " 'State_ID_3',\n",
    " 'State_ID_4',\n",
    " 'State_ID_5',\n",
    " 'State_ID_6',\n",
    " 'State_ID_7',\n",
    " 'State_ID_8',\n",
    " 'State_ID_9',\n",
    " 'State_ID_10',\n",
    " 'State_ID_11',\n",
    " 'State_ID_12',\n",
    " 'State_ID_13',\n",
    " 'State_ID_14',\n",
    " 'State_ID_15',\n",
    " 'State_ID_16',\n",
    " 'State_ID_17',\n",
    " 'State_ID_18',\n",
    " 'State_ID_19',\n",
    " 'State_ID_20',\n",
    " 'State_ID_21',\n",
    " 'State_ID_22',\n",
    " 'employment_label_1',\n",
    " 'employment_label_2']"
   ]
  },
  {
   "cell_type": "code",
   "execution_count": 16,
   "metadata": {},
   "outputs": [
    {
     "data": {
      "image/png": "[encoded data removed]",
      "text/plain": [
       "<Figure size 504x504 with 1 Axes>"
      ]
     },
     "metadata": {
      "needs_background": "light"
     },
     "output_type": "display_data"
    }
   ],
   "source": [
    "plt.figure(figsize=(7,7))\n",
    "sns.barplot(x=numcols.scores_,y=num_cols)\n",
    "plt.title('Best Numerical Features')\n",
    "plt.show()"
   ]
  },
  {
   "cell_type": "code",
   "execution_count": 29,
   "metadata": {},
   "outputs": [],
   "source": [
    "num_cols=['PRI.NO.OF.ACCTS','PRI.ACTIVE.ACCTS', 'PRI.OVERDUE.ACCTS',\n",
    "       'PRI.CURRENT.BALANCE', 'PRI.DISBURSED.AMOUNT','PRIMARY.INSTAL.AMT','NEW.ACCTS.IN.LAST.SIX.MONTHS', 'DELINQUENT.ACCTS.IN.LAST.SIX.MONTHS',\n",
    "       'AVERAGE.ACCT.AGE', 'CREDIT.HISTORY.LENGTH', 'NO.OF_INQUIRIES','Age']"
   ]
  },
  {
   "cell_type": "code",
   "execution_count": 85,
   "metadata": {},
   "outputs": [],
   "source": [
    "col=['branch_id','manufacturer_id','Current_pincode_ID','State_ID','Employee_code_ID','sub_risk_label','PRI.NO.OF.ACCTS','PRI.ACTIVE.ACCTS', 'PRI.OVERDUE.ACCTS',\n",
    "       'PRI.CURRENT.BALANCE', 'PRI.DISBURSED.AMOUNT','PRIMARY.INSTAL.AMT','NEW.ACCTS.IN.LAST.SIX.MONTHS', 'DELINQUENT.ACCTS.IN.LAST.SIX.MONTHS',\n",
    "       'AVERAGE.ACCT.AGE', 'CREDIT.HISTORY.LENGTH', 'NO.OF_INQUIRIES','Age','loan_default']"
   ]
  },
  {
   "cell_type": "code",
   "execution_count": 86,
   "metadata": {},
   "outputs": [],
   "source": [
    "df=df[col]"
   ]
  },
  {
   "cell_type": "code",
   "execution_count": 40,
   "metadata": {},
   "outputs": [
    {
     "data": {
      "text/plain": [
       "['branch_id',\n",
       " 'manufacturer_id',\n",
       " 'Current_pincode_ID',\n",
       " 'State_ID',\n",
       " 'Employee_code_ID',\n",
       " 'sub_risk_label',\n",
       " 'PRI.NO.OF.ACCTS',\n",
       " 'PRI.ACTIVE.ACCTS',\n",
       " 'PRI.OVERDUE.ACCTS',\n",
       " 'PRI.CURRENT.BALANCE',\n",
       " 'PRI.DISBURSED.AMOUNT',\n",
       " 'PRIMARY.INSTAL.AMT',\n",
       " 'NEW.ACCTS.IN.LAST.SIX.MONTHS',\n",
       " 'DELINQUENT.ACCTS.IN.LAST.SIX.MONTHS',\n",
       " 'AVERAGE.ACCT.AGE',\n",
       " 'CREDIT.HISTORY.LENGTH',\n",
       " 'NO.OF_INQUIRIES',\n",
       " 'Age']"
      ]
     },
     "execution_count": 40,
     "metadata": {},
     "output_type": "execute_result"
    }
   ],
   "source": [
    "col"
   ]
  },
  {
   "cell_type": "code",
   "execution_count": 19,
   "metadata": {},
   "outputs": [
    {
     "name": "stdout",
     "output_type": "stream",
     "text": [
      "supplier_id 0.0\n",
      "Current_pincode_ID 0.0\n",
      "Employee_code_ID 0.0\n",
      "Aadhar_flag 1.1791998402218374e-89\n",
      "PAN_flag 0.3277743362589148\n",
      "VoterID_flag 5.603683381655361e-99\n",
      "Driving_flag 0.0052012912081583085\n",
      "Passport_flag 0.0002987981770071958\n",
      "credit_risk_label 0.0\n",
      "sub_risk_label 0.0\n",
      "branch_id_2 5.855057437325583e-18\n",
      "branch_id_3 1.1982110297535957e-23\n",
      "branch_id_5 0.24040722472401876\n",
      "branch_id_7 0.06485872235031706\n",
      "branch_id_8 6.890488768651472e-28\n",
      "branch_id_9 0.0021518334465554043\n",
      "branch_id_10 6.763630757464229e-21\n",
      "branch_id_11 0.1936413764477294\n",
      "branch_id_13 0.16015307363788778\n",
      "branch_id_14 0.00015682119305381525\n",
      "branch_id_15 7.959979421239071e-07\n",
      "branch_id_16 3.034377884685538e-36\n",
      "branch_id_17 9.837040160641446e-09\n",
      "branch_id_18 0.008433447287030302\n",
      "branch_id_19 1.6956809864523854e-27\n",
      "branch_id_20 0.00039317899115193586\n",
      "branch_id_29 0.6703415836925521\n",
      "branch_id_34 2.7087954554970207e-14\n",
      "branch_id_35 0.00010348053081080937\n",
      "branch_id_36 1.790997472827461e-76\n",
      "branch_id_42 7.501843121720995e-06\n",
      "branch_id_43 0.8984725649560701\n",
      "branch_id_48 0.0007878727101382279\n",
      "branch_id_61 0.1108675519810556\n",
      "branch_id_62 0.7466219393684363\n",
      "branch_id_63 0.00310799925729957\n",
      "branch_id_64 0.03467742624670861\n",
      "branch_id_65 8.135676014164316e-21\n",
      "branch_id_66 0.044620828678912\n",
      "branch_id_67 1.1554789592655266e-09\n",
      "branch_id_68 0.026429634211914584\n",
      "branch_id_69 0.0009606317765059782\n",
      "branch_id_70 0.007677387050757004\n",
      "branch_id_72 0.4411806899195081\n",
      "branch_id_73 0.22238597285331405\n",
      "branch_id_74 1.8216085124024158e-18\n",
      "branch_id_76 0.11615369264846673\n",
      "branch_id_77 0.0287345406894263\n",
      "branch_id_78 3.0569708482786015e-17\n",
      "branch_id_79 0.6868966142180872\n",
      "branch_id_82 0.004973728372628564\n",
      "branch_id_84 0.6461663745606903\n",
      "branch_id_85 3.783768249113538e-05\n",
      "branch_id_97 5.0749980078257815e-06\n",
      "branch_id_100 0.009828173612712597\n",
      "branch_id_101 0.477129145422828\n",
      "branch_id_103 7.128265108450394e-06\n",
      "branch_id_104 1.3109506544171333e-08\n",
      "branch_id_105 2.9814600934122633e-15\n",
      "branch_id_111 0.9629407798775949\n",
      "branch_id_117 0.0001842457417581931\n",
      "branch_id_120 1.56142680779262e-14\n",
      "branch_id_121 0.09556270368461986\n",
      "branch_id_130 0.21846992043316912\n",
      "branch_id_135 9.085093916661213e-07\n",
      "branch_id_136 0.5736570134971462\n",
      "branch_id_138 0.1457285020200656\n",
      "branch_id_142 0.00967071982946248\n",
      "branch_id_146 5.839383970198546e-32\n",
      "branch_id_147 1.1594144004803253e-17\n",
      "branch_id_152 5.724714173941122e-47\n",
      "branch_id_153 1.2604117622646752e-05\n",
      "branch_id_158 0.3036322623783947\n",
      "branch_id_159 0.8158924955987472\n",
      "branch_id_160 1.6522345397616584e-05\n",
      "branch_id_162 2.488667140918124e-10\n",
      "branch_id_165 0.7109762151020935\n",
      "branch_id_202 0.7613095252629215\n",
      "branch_id_207 0.16332653954733806\n",
      "branch_id_217 0.391592205943179\n",
      "branch_id_248 0.0015393326919970632\n",
      "branch_id_249 0.4935281318597664\n",
      "branch_id_250 0.9504707264758135\n",
      "branch_id_251 2.7377227963170665e-82\n",
      "branch_id_254 7.212857551843547e-27\n",
      "branch_id_255 0.9680982065873606\n",
      "branch_id_257 0.1122419438516923\n",
      "branch_id_258 0.6437005703575649\n",
      "branch_id_259 0.6578744688099777\n",
      "branch_id_260 0.03501191113834885\n",
      "branch_id_261 0.9568971136927867\n",
      "manufacturer_id_48 9.554450369758749e-73\n",
      "manufacturer_id_49 0.6759722133622696\n",
      "manufacturer_id_51 0.00010615246456703398\n",
      "manufacturer_id_67 0.9823893237268333\n",
      "manufacturer_id_86 5.000512882232037e-43\n",
      "manufacturer_id_120 0.37720936152694784\n",
      "manufacturer_id_145 0.28078739032699235\n",
      "manufacturer_id_152 0.4268200229197421\n",
      "manufacturer_id_153 0.5307680795542968\n",
      "manufacturer_id_156 0.49252192462912625\n",
      "State_ID_2 1.1594144004803253e-17\n",
      "State_ID_3 1.3862405202295463e-50\n",
      "State_ID_4 1.3715037083676585e-07\n",
      "State_ID_5 5.01167505947667e-06\n",
      "State_ID_6 4.318855079492093e-08\n",
      "State_ID_7 0.0019723078461076856\n",
      "State_ID_8 0.00022254434237858092\n",
      "State_ID_9 0.7873117705814116\n",
      "State_ID_10 1.2917275504411403e-09\n",
      "State_ID_11 0.010313910205970729\n",
      "State_ID_12 1.56142680779262e-14\n",
      "State_ID_13 1.7032588012963064e-200\n",
      "State_ID_14 3.158182571697894e-45\n",
      "State_ID_15 0.3426976731728048\n",
      "State_ID_16 2.595088057343206e-05\n",
      "State_ID_17 9.790120323448643e-06\n",
      "State_ID_18 0.6001660701301231\n",
      "State_ID_19 0.004973728372628564\n",
      "State_ID_20 0.17184231840356698\n",
      "State_ID_21 0.6461663745606903\n",
      "State_ID_22 0.05149556944520812\n",
      "employment_label_1 7.376771988643851e-42\n",
      "employment_label_2 0.6024856068830444\n"
     ]
    }
   ],
   "source": [
    "from scipy.stats import chi2_contingency\n",
    "chi=[]\n",
    "for i in cats:\n",
    "    pvalue  = chi2_contingency(pd.crosstab(df[i],df['loan_default']))[1]\n",
    "    print(i,pvalue)\n",
    "    if pvalue > 0.05:\n",
    "        chi.append(i)"
   ]
  },
  {
   "cell_type": "code",
   "execution_count": 20,
   "metadata": {},
   "outputs": [
    {
     "data": {
      "text/plain": [
       "['PAN_flag',\n",
       " 'branch_id_5',\n",
       " 'branch_id_7',\n",
       " 'branch_id_11',\n",
       " 'branch_id_13',\n",
       " 'branch_id_29',\n",
       " 'branch_id_43',\n",
       " 'branch_id_61',\n",
       " 'branch_id_62',\n",
       " 'branch_id_72',\n",
       " 'branch_id_73',\n",
       " 'branch_id_76',\n",
       " 'branch_id_79',\n",
       " 'branch_id_84',\n",
       " 'branch_id_101',\n",
       " 'branch_id_111',\n",
       " 'branch_id_121',\n",
       " 'branch_id_130',\n",
       " 'branch_id_136',\n",
       " 'branch_id_138',\n",
       " 'branch_id_158',\n",
       " 'branch_id_159',\n",
       " 'branch_id_165',\n",
       " 'branch_id_202',\n",
       " 'branch_id_207',\n",
       " 'branch_id_217',\n",
       " 'branch_id_249',\n",
       " 'branch_id_250',\n",
       " 'branch_id_255',\n",
       " 'branch_id_257',\n",
       " 'branch_id_258',\n",
       " 'branch_id_259',\n",
       " 'branch_id_261',\n",
       " 'manufacturer_id_49',\n",
       " 'manufacturer_id_67',\n",
       " 'manufacturer_id_120',\n",
       " 'manufacturer_id_145',\n",
       " 'manufacturer_id_152',\n",
       " 'manufacturer_id_153',\n",
       " 'manufacturer_id_156',\n",
       " 'State_ID_9',\n",
       " 'State_ID_15',\n",
       " 'State_ID_18',\n",
       " 'State_ID_20',\n",
       " 'State_ID_21',\n",
       " 'State_ID_22',\n",
       " 'employment_label_2']"
      ]
     },
     "execution_count": 20,
     "metadata": {},
     "output_type": "execute_result"
    }
   ],
   "source": [
    "chi"
   ]
  },
  {
   "cell_type": "code",
   "execution_count": 127,
   "metadata": {},
   "outputs": [
    {
     "name": "stdout",
     "output_type": "stream",
     "text": [
      "PRI.NO.OF.ACCTS 9.576575137572993e-66\n",
      "PRI.ACTIVE.ACCTS 3.448627479875517e-89\n",
      "PRI.OVERDUE.ACCTS 9.138488408377107e-87\n",
      "PRI.CURRENT.BALANCE 6.221337646272035e-40\n",
      "PRI.DISBURSED.AMOUNT 7.176942237800462e-08\n",
      "PRIMARY.INSTAL.AMT 2.958254960232989e-07\n",
      "NEW.ACCTS.IN.LAST.SIX.MONTHS 9.30229371021266e-46\n",
      "DELINQUENT.ACCTS.IN.LAST.SIX.MONTHS 3.2892517686894386e-62\n",
      "AVERAGE.ACCT.AGE 5.261091482095756e-33\n",
      "CREDIT.HISTORY.LENGTH 4.6500173864982836e-92\n",
      "NO.OF_INQUIRIES 7.912566786376203e-99\n",
      "Age 1.6119724395993934e-72\n"
     ]
    }
   ],
   "source": [
    "from scipy.stats import ttest_ind\n",
    "\n",
    "for i in num_cols:\n",
    "    df1=df.groupby('loan_default').get_group(0)\n",
    "    df2=df.groupby('loan_default').get_group(1)\n",
    "    t,pvalue=ttest_ind(df1[i],df2[i])\n",
    "    print(i,pvalue)"
   ]
  },
  {
   "cell_type": "code",
   "execution_count": 15,
   "metadata": {},
   "outputs": [],
   "source": [
    "df=df.drop(['SEC.OVERDUE.ACCTS','SEC.INSTAL.AMT','PAN_flag'],axis=1)"
   ]
  },
  {
   "cell_type": "code",
   "execution_count": 70,
   "metadata": {},
   "outputs": [
    {
     "data": {
      "text/plain": [
       "array([1.42125088e+04, 1.03815866e+03, 2.77680338e+05, 1.49069966e+03,\n",
       "       6.10693030e+04, 6.44069100e+01, 9.02570591e-01, 3.81535253e+02,\n",
       "       7.71788310e+00, 1.34465204e+01, 7.93877514e+03, 9.75925002e+01])"
      ]
     },
     "execution_count": 70,
     "metadata": {},
     "output_type": "execute_result"
    }
   ],
   "source": [
    "catsc"
   ]
  },
  {
   "cell_type": "code",
   "execution_count": 12,
   "metadata": {},
   "outputs": [],
   "source": [
    "df_pivot=pd.pivot_table(df, values=['ltv'],index='manufacturer_id',columns=['loan_default'],aggfunc='mean')\n",
    "df_pivot=df_pivot['ltv'].sort_values(by=1, ascending=False)"
   ]
  },
  {
   "cell_type": "code",
   "execution_count": 13,
   "metadata": {},
   "outputs": [
    {
     "data": {
      "text/html": [
       "<div>\n",
       "<style scoped>\n",
       "    .dataframe tbody tr th:only-of-type {\n",
       "        vertical-align: middle;\n",
       "    }\n",
       "\n",
       "    .dataframe tbody tr th {\n",
       "        vertical-align: top;\n",
       "    }\n",
       "\n",
       "    .dataframe thead th {\n",
       "        text-align: right;\n",
       "    }\n",
       "</style>\n",
       "<table border=\"1\" class=\"dataframe\">\n",
       "  <thead>\n",
       "    <tr style=\"text-align: right;\">\n",
       "      <th>loan_default</th>\n",
       "      <th>0</th>\n",
       "      <th>1</th>\n",
       "      <th>Count</th>\n",
       "    </tr>\n",
       "    <tr>\n",
       "      <th>manufacturer_id</th>\n",
       "      <th></th>\n",
       "      <th></th>\n",
       "      <th></th>\n",
       "    </tr>\n",
       "  </thead>\n",
       "  <tbody>\n",
       "    <tr>\n",
       "      <th>86</th>\n",
       "      <td>76.393866</td>\n",
       "      <td>79.736777</td>\n",
       "      <td>109534</td>\n",
       "    </tr>\n",
       "    <tr>\n",
       "      <th>45</th>\n",
       "      <td>75.391333</td>\n",
       "      <td>78.602826</td>\n",
       "      <td>56626</td>\n",
       "    </tr>\n",
       "    <tr>\n",
       "      <th>120</th>\n",
       "      <td>72.980345</td>\n",
       "      <td>75.330544</td>\n",
       "      <td>9658</td>\n",
       "    </tr>\n",
       "    <tr>\n",
       "      <th>51</th>\n",
       "      <td>70.633837</td>\n",
       "      <td>72.725876</td>\n",
       "      <td>27204</td>\n",
       "    </tr>\n",
       "    <tr>\n",
       "      <th>48</th>\n",
       "      <td>68.009257</td>\n",
       "      <td>69.942563</td>\n",
       "      <td>16710</td>\n",
       "    </tr>\n",
       "    <tr>\n",
       "      <th>145</th>\n",
       "      <td>68.549727</td>\n",
       "      <td>69.208590</td>\n",
       "      <td>778</td>\n",
       "    </tr>\n",
       "    <tr>\n",
       "      <th>49</th>\n",
       "      <td>66.178054</td>\n",
       "      <td>68.448292</td>\n",
       "      <td>10220</td>\n",
       "    </tr>\n",
       "    <tr>\n",
       "      <th>67</th>\n",
       "      <td>62.239830</td>\n",
       "      <td>62.380918</td>\n",
       "      <td>2405</td>\n",
       "    </tr>\n",
       "    <tr>\n",
       "      <th>153</th>\n",
       "      <td>48.510000</td>\n",
       "      <td>48.272500</td>\n",
       "      <td>12</td>\n",
       "    </tr>\n",
       "    <tr>\n",
       "      <th>152</th>\n",
       "      <td>71.696667</td>\n",
       "      <td>NaN</td>\n",
       "      <td>6</td>\n",
       "    </tr>\n",
       "    <tr>\n",
       "      <th>156</th>\n",
       "      <td>75.250000</td>\n",
       "      <td>NaN</td>\n",
       "      <td>1</td>\n",
       "    </tr>\n",
       "  </tbody>\n",
       "</table>\n",
       "</div>"
      ],
      "text/plain": [
       "loan_default             0          1   Count\n",
       "manufacturer_id                              \n",
       "86               76.393866  79.736777  109534\n",
       "45               75.391333  78.602826   56626\n",
       "120              72.980345  75.330544    9658\n",
       "51               70.633837  72.725876   27204\n",
       "48               68.009257  69.942563   16710\n",
       "145              68.549727  69.208590     778\n",
       "49               66.178054  68.448292   10220\n",
       "67               62.239830  62.380918    2405\n",
       "153              48.510000  48.272500      12\n",
       "152              71.696667        NaN       6\n",
       "156              75.250000        NaN       1"
      ]
     },
     "execution_count": 13,
     "metadata": {},
     "output_type": "execute_result"
    }
   ],
   "source": [
    "df_pivot['Count']=df['manufacturer_id'].value_counts()\n",
    "\n",
    "df_pivot"
   ]
  },
  {
   "cell_type": "code",
   "execution_count": 129,
   "metadata": {},
   "outputs": [
    {
     "data": {
      "text/plain": [
       "Index(['disbursed_amount', 'ltv', 'branch_id', 'supplier_id',\n",
       "       'manufacturer_id', 'Current_pincode_ID', 'State_ID', 'Employee_code_ID',\n",
       "       'Aadhar_flag', 'VoterID_flag', 'Driving_flag', 'Passport_flag',\n",
       "       'PRI.NO.OF.ACCTS', 'PRI.ACTIVE.ACCTS', 'PRI.OVERDUE.ACCTS',\n",
       "       'PRI.CURRENT.BALANCE', 'PRI.DISBURSED.AMOUNT', 'SEC.NO.OF.ACCTS',\n",
       "       'SEC.ACTIVE.ACCTS', 'SEC.CURRENT.BALANCE', 'SEC.DISBURSED.AMOUNT',\n",
       "       'PRIMARY.INSTAL.AMT', 'NEW.ACCTS.IN.LAST.SIX.MONTHS',\n",
       "       'DELINQUENT.ACCTS.IN.LAST.SIX.MONTHS', 'AVERAGE.ACCT.AGE',\n",
       "       'CREDIT.HISTORY.LENGTH', 'NO.OF_INQUIRIES', 'loan_default',\n",
       "       'sub_risk_label', 'employment_label', 'Age'],\n",
       "      dtype='object')"
      ]
     },
     "execution_count": 129,
     "metadata": {},
     "output_type": "execute_result"
    }
   ],
   "source": [
    "df.columns"
   ]
  },
  {
   "cell_type": "code",
   "execution_count": 22,
   "metadata": {},
   "outputs": [],
   "source": [
    "y=df['loan_default']\n",
    "x=df.drop('loan_default',axis=1)"
   ]
  },
  {
   "cell_type": "code",
   "execution_count": 23,
   "metadata": {},
   "outputs": [],
   "source": [
    "X_train, X_test, y_train, y_test = train_test_split(x, y, test_size=0.30, random_state=42)"
   ]
  },
  {
   "cell_type": "code",
   "execution_count": 132,
   "metadata": {},
   "outputs": [],
   "source": [
    "from sklearn.preprocessing import  RobustScaler\n",
    "rob_scaler = RobustScaler()\n",
    "X_train = rob_scaler.fit_transform(X_train)\n",
    "X_test = rob_scaler.fit_transform(X_test)"
   ]
  },
  {
   "cell_type": "code",
   "execution_count": 18,
   "metadata": {},
   "outputs": [],
   "source": [
    "from sklearn.preprocessing import StandardScaler\n",
    "sc=StandardScaler()\n",
    "X_train=sc.fit_transform(X_train)\n",
    "X_test=sc.transform(X_test)"
   ]
  },
  {
   "cell_type": "code",
   "execution_count": 24,
   "metadata": {},
   "outputs": [],
   "source": [
    "lr=LogisticRegression()\n",
    "lr.fit(X_train,y_train)\n",
    "y_pred=lr.predict(X_test)"
   ]
  },
  {
   "cell_type": "code",
   "execution_count": 25,
   "metadata": {},
   "outputs": [
    {
     "name": "stdout",
     "output_type": "stream",
     "text": [
      "0.78276409281313\n",
      "precision : 0.0 \n",
      "\n",
      "Recall : 0.0 \n",
      "\n",
      "f1 score: 0.0 \n",
      "\n"
     ]
    }
   ],
   "source": [
    "# for Test set\n",
    "model_score = lr.score(X_test,y_test)\n",
    "print(model_score)\n",
    "print(\"precision :\",precision_score(y_test,y_pred),\"\\n\")\n",
    "print(\"Recall :\",recall_score(y_test,y_pred),\"\\n\")\n",
    "print(\"f1 score:\",f1_score(y_test,y_pred),\"\\n\")"
   ]
  },
  {
   "cell_type": "code",
   "execution_count": 26,
   "metadata": {},
   "outputs": [],
   "source": [
    "from xgboost import XGBClassifier"
   ]
  },
  {
   "cell_type": "code",
   "execution_count": 28,
   "metadata": {},
   "outputs": [],
   "source": [
    "classifiers = [\n",
    "    #LogisticRegression(),\n",
    "    #DecisionTreeClassifier(criterion='entropy',random_state=0),\n",
    "    #DecisionTreeClassifier(criterion='gini',random_state=0),\n",
    "    #RandomForestClassifier(n_estimators=100),\n",
    "    #GaussianNB(),\n",
    "    #BaggingClassifier(random_state=0),\n",
    "    #AdaBoostClassifier(),\n",
    "    XGBClassifier(random_state=0, n_jobs=-1, learning_rate=0.1,\n",
    "                  n_estimators=100, max_depth=3)\n",
    "]"
   ]
  },
  {
   "cell_type": "code",
   "execution_count": 32,
   "metadata": {
    "scrolled": false
   },
   "outputs": [
    {
     "name": "stdout",
     "output_type": "stream",
     "text": [
      "XGBClassifier(base_score=0.5, booster='gbtree', colsample_bylevel=1,\n",
      "              colsample_bynode=1, colsample_bytree=1, gamma=0,\n",
      "              learning_rate=0.1, max_delta_step=0, max_depth=3,\n",
      "              min_child_weight=1, missing=None, n_estimators=100, n_jobs=-1,\n",
      "              nthread=None, objective='binary:logistic', random_state=0,\n",
      "              reg_alpha=0, reg_lambda=1, scale_pos_weight=1, seed=None,\n",
      "              silent=None, subsample=1, verbosity=1) \n",
      "\n",
      "accuracy train: 0.783483551563352 \n",
      "\n",
      "accuracy test: 0.7828355755071698 \n",
      "\n",
      "precision : 0.5050505050505051 \n",
      "\n",
      "f1 score: 0.006540222367560497 \n",
      "\n",
      "Confusion Matrix \n",
      " [[54707    49]\n",
      " [15141    50]]\n",
      "-------------------------------------------------------------------------------------------------------\n"
     ]
    }
   ],
   "source": [
    "results = []\n",
    "for item in classifiers:\n",
    "    print(item,\"\\n\")\n",
    "    clf = item\n",
    "    clf.fit(X_train, y_train)\n",
    "    y_pred=clf.predict(X_test)\n",
    "    #print(y_pred)\n",
    "    #results.append(accuracy_score(y_test,y_pred))\n",
    "    results.append(y_pred)\n",
    "    print(\"accuracy train:\",clf.score(X_train,y_train),\"\\n\")\n",
    "    print(\"accuracy test:\",clf.score(X_test,y_test),\"\\n\")\n",
    "    print(\"precision :\",precision_score(y_test,y_pred),\"\\n\")\n",
    "    print(\"f1 score:\",f1_score(y_test,y_pred),\"\\n\")\n",
    "    print(\"Confusion Matrix \\n\",confusion_matrix(y_test,y_pred))\n",
    "    print(\"-------------------------------------------------------------------------------------------------------\")"
   ]
  },
  {
   "cell_type": "code",
   "execution_count": 32,
   "metadata": {},
   "outputs": [],
   "source": [
    "sm = SMOTE(random_state=40)\n",
    "X_train, y_train = sm.fit_sample(X_train, y_train.ravel())"
   ]
  },
  {
   "cell_type": "code",
   "execution_count": 34,
   "metadata": {},
   "outputs": [],
   "source": [
    "classifiers = [\n",
    "    LogisticRegression(),\n",
    "    DecisionTreeClassifier(criterion='entropy',random_state=0),\n",
    "    DecisionTreeClassifier(criterion='gini',random_state=0),\n",
    "    RandomForestClassifier(n_estimators=100),\n",
    "    GaussianNB(),\n",
    "    BaggingClassifier(random_state=0),\n",
    "    AdaBoostClassifier(),\n",
    "    XGBClassifier(random_state=0, n_jobs=-1, learning_rate=0.1,\n",
    "                  n_estimators=100, max_depth=3)\n",
    "]"
   ]
  },
  {
   "cell_type": "code",
   "execution_count": 33,
   "metadata": {
    "scrolled": false
   },
   "outputs": [
    {
     "name": "stdout",
     "output_type": "stream",
     "text": [
      "LogisticRegression(C=1.0, class_weight=None, dual=False, fit_intercept=True,\n",
      "                   intercept_scaling=1, l1_ratio=None, max_iter=100,\n",
      "                   multi_class='auto', n_jobs=None, penalty='l2',\n",
      "                   random_state=None, solver='lbfgs', tol=0.0001, verbose=0,\n",
      "                   warm_start=False) \n",
      "\n"
     ]
    },
    {
     "ename": "NameError",
     "evalue": "name 'X_trainp' is not defined",
     "output_type": "error",
     "traceback": [
      "\u001b[1;31m---------------------------------------------------------------------------\u001b[0m",
      "\u001b[1;31mNameError\u001b[0m                                 Traceback (most recent call last)",
      "\u001b[1;32m<ipython-input-33-78b917087294>\u001b[0m in \u001b[0;36m<module>\u001b[1;34m\u001b[0m\n\u001b[0;32m      3\u001b[0m     \u001b[0mprint\u001b[0m\u001b[1;33m(\u001b[0m\u001b[0mitem\u001b[0m\u001b[1;33m,\u001b[0m\u001b[1;34m\"\\n\"\u001b[0m\u001b[1;33m)\u001b[0m\u001b[1;33m\u001b[0m\u001b[1;33m\u001b[0m\u001b[0m\n\u001b[0;32m      4\u001b[0m     \u001b[0mclf\u001b[0m \u001b[1;33m=\u001b[0m \u001b[0mitem\u001b[0m\u001b[1;33m\u001b[0m\u001b[1;33m\u001b[0m\u001b[0m\n\u001b[1;32m----> 5\u001b[1;33m     \u001b[0mclf\u001b[0m\u001b[1;33m.\u001b[0m\u001b[0mfit\u001b[0m\u001b[1;33m(\u001b[0m\u001b[0mX_trainp\u001b[0m\u001b[1;33m,\u001b[0m \u001b[0my_train\u001b[0m\u001b[1;33m)\u001b[0m\u001b[1;33m\u001b[0m\u001b[1;33m\u001b[0m\u001b[0m\n\u001b[0m\u001b[0;32m      6\u001b[0m     \u001b[0my_pred\u001b[0m\u001b[1;33m=\u001b[0m\u001b[0mclf\u001b[0m\u001b[1;33m.\u001b[0m\u001b[0mpredict\u001b[0m\u001b[1;33m(\u001b[0m\u001b[0mX_testp\u001b[0m\u001b[1;33m)\u001b[0m\u001b[1;33m\u001b[0m\u001b[1;33m\u001b[0m\u001b[0m\n\u001b[0;32m      7\u001b[0m     \u001b[1;31m#print(y_pred)\u001b[0m\u001b[1;33m\u001b[0m\u001b[1;33m\u001b[0m\u001b[1;33m\u001b[0m\u001b[0m\n",
      "\u001b[1;31mNameError\u001b[0m: name 'X_trainp' is not defined"
     ]
    }
   ],
   "source": [
    "results = []\n",
    "for item in classifiers:\n",
    "    print(item,\"\\n\")\n",
    "    clf = item\n",
    "    clf.fit(X_trainp, y_train)\n",
    "    y_pred=clf.predict(X_testp)\n",
    "    #print(y_pred)\n",
    "    #results.append(accuracy_score(y_test,y_pred))\n",
    "    results.append(y_pred)\n",
    "    print(\"accuracy train:\",clf.score(X_trainp,y_train),\"\\n\")\n",
    "    print(\"accuracy test:\",clf.score(X_testp,y_test),\"\\n\")\n",
    "    print(\"precision :\",precision_score(y_test,y_pred),\"\\n\")\n",
    "    print(\"f1 score:\",f1_score(y_test,y_pred),\"\\n\")\n",
    "    print(\"-------------------------------------------------------------------------------------------------------\")"
   ]
  },
  {
   "cell_type": "code",
   "execution_count": 212,
   "metadata": {},
   "outputs": [
    {
     "data": {
      "text/plain": [
       "0         20\n",
       "1         10\n",
       "2         21\n",
       "3         14\n",
       "4         19\n",
       "          ..\n",
       "233149    12\n",
       "233150    16\n",
       "233151    20\n",
       "233152    20\n",
       "233153    20\n",
       "Length: 233154, dtype: int64"
      ]
     },
     "execution_count": 212,
     "metadata": {},
     "output_type": "execute_result"
    }
   ],
   "source": [
    "(df == 0).astype(int).sum(axis=1)"
   ]
  },
  {
   "cell_type": "code",
   "execution_count": 28,
   "metadata": {},
   "outputs": [],
   "source": [
    "pca=PCA(100)"
   ]
  },
  {
   "cell_type": "code",
   "execution_count": 29,
   "metadata": {},
   "outputs": [],
   "source": [
    "X_trainp=pca.fit_transform(X_train)\n",
    "X_testp=pca.fit_transform(X_test)"
   ]
  },
  {
   "cell_type": "code",
   "execution_count": 30,
   "metadata": {},
   "outputs": [
    {
     "data": {
      "image/png": "[encoded data removed]",
      "text/plain": [
       "<Figure size 432x288 with 1 Axes>"
      ]
     },
     "metadata": {
      "needs_background": "light"
     },
     "output_type": "display_data"
    }
   ],
   "source": [
    "plt.plot(np.cumsum(pca.explained_variance_ratio_))\n",
    "plt.axhline(y=0.95, color='r', linestyle='-')\n",
    "plt.show()"
   ]
  },
  {
   "cell_type": "code",
   "execution_count": 72,
   "metadata": {},
   "outputs": [
    {
     "data": {
      "text/plain": [
       "(233154, 37)"
      ]
     },
     "execution_count": 72,
     "metadata": {},
     "output_type": "execute_result"
    }
   ],
   "source": [
    "df.shape"
   ]
  },
  {
   "cell_type": "code",
   "execution_count": 1,
   "metadata": {},
   "outputs": [],
   "source": [
    "from sklearn.utils import resample"
   ]
  },
  {
   "cell_type": "code",
   "execution_count": 19,
   "metadata": {},
   "outputs": [],
   "source": [
    "not_default = df[df.loan_default==0]\n",
    "default = df[df.loan_default==1]"
   ]
  },
  {
   "cell_type": "code",
   "execution_count": 20,
   "metadata": {},
   "outputs": [],
   "source": [
    "not_default_downsampled = resample(not_default,\n",
    "                                replace = True, # sample without replacement\n",
    "                                n_samples = len(default), # match minority n\n",
    "                                random_state = 0)"
   ]
  },
  {
   "cell_type": "code",
   "execution_count": 21,
   "metadata": {},
   "outputs": [],
   "source": [
    "downsampled = pd.concat([not_default_downsampled, default])"
   ]
  },
  {
   "cell_type": "code",
   "execution_count": 22,
   "metadata": {},
   "outputs": [],
   "source": [
    "y=downsampled['loan_default']\n",
    "X=downsampled.drop(['loan_default'],axis=1)"
   ]
  },
  {
   "cell_type": "code",
   "execution_count": 23,
   "metadata": {},
   "outputs": [],
   "source": [
    "X_train, X_test, y_train, y_test = train_test_split(X, y, test_size=0.30, random_state=42)"
   ]
  },
  {
   "cell_type": "code",
   "execution_count": 24,
   "metadata": {},
   "outputs": [],
   "source": [
    "X_train=sc.fit_transform(X_train)\n",
    "X_test=sc.transform(X_test)"
   ]
  },
  {
   "cell_type": "code",
   "execution_count": 31,
   "metadata": {
    "scrolled": false
   },
   "outputs": [
    {
     "name": "stdout",
     "output_type": "stream",
     "text": [
      "LogisticRegression(C=1.0, class_weight=None, dual=False, fit_intercept=True,\n",
      "                   intercept_scaling=1, l1_ratio=None, max_iter=100,\n",
      "                   multi_class='auto', n_jobs=None, penalty='l2',\n",
      "                   random_state=None, solver='lbfgs', tol=0.0001, verbose=0,\n",
      "                   warm_start=False) \n",
      "\n",
      "accuracy train: 0.5980241337943688 \n",
      "\n",
      "accuracy test: 0.5992689432607765 \n",
      "\n",
      "precision : 0.5894534071755357 \n",
      "\n",
      "Recall score: 0.6467208242520309 \n",
      "\n",
      "f1 score: 0.616760621043681 \n",
      "\n",
      "              precision    recall  f1-score   support\n",
      "\n",
      "           0       0.61      0.55      0.58     15226\n",
      "           1       0.59      0.65      0.62     15141\n",
      "\n",
      "    accuracy                           0.60     30367\n",
      "   macro avg       0.60      0.60      0.60     30367\n",
      "weighted avg       0.60      0.60      0.60     30367\n",
      "\n",
      "DecisionTreeClassifier(ccp_alpha=0.0, class_weight=None, criterion='entropy',\n",
      "                       max_depth=None, max_features=None, max_leaf_nodes=None,\n",
      "                       min_impurity_decrease=0.0, min_impurity_split=None,\n",
      "                       min_samples_leaf=1, min_samples_split=2,\n",
      "                       min_weight_fraction_leaf=0.0, presort='deprecated',\n",
      "                       random_state=0, splitter='best') \n",
      "\n",
      "accuracy train: 0.9999858866699598 \n",
      "\n",
      "accuracy test: 0.5836269634800936 \n",
      "\n",
      "precision : 0.5850071491795465 \n",
      "\n",
      "Recall score: 0.5674658212799683 \n",
      "\n",
      "f1 score: 0.5761029904787448 \n",
      "\n",
      "              precision    recall  f1-score   support\n",
      "\n",
      "           0       0.58      0.60      0.59     15226\n",
      "           1       0.59      0.57      0.58     15141\n",
      "\n",
      "    accuracy                           0.58     30367\n",
      "   macro avg       0.58      0.58      0.58     30367\n",
      "weighted avg       0.58      0.58      0.58     30367\n",
      "\n",
      "DecisionTreeClassifier(ccp_alpha=0.0, class_weight=None, criterion='gini',\n",
      "                       max_depth=None, max_features=None, max_leaf_nodes=None,\n",
      "                       min_impurity_decrease=0.0, min_impurity_split=None,\n",
      "                       min_samples_leaf=1, min_samples_split=2,\n",
      "                       min_weight_fraction_leaf=0.0, presort='deprecated',\n",
      "                       random_state=0, splitter='best') \n",
      "\n",
      "accuracy train: 0.9999858866699598 \n",
      "\n",
      "accuracy test: 0.577765337372806 \n",
      "\n",
      "precision : 0.5791737794469102 \n",
      "\n",
      "Recall score: 0.5602007793408625 \n",
      "\n",
      "f1 score: 0.5695293090713759 \n",
      "\n",
      "              precision    recall  f1-score   support\n",
      "\n",
      "           0       0.58      0.60      0.59     15226\n",
      "           1       0.58      0.56      0.57     15141\n",
      "\n",
      "    accuracy                           0.58     30367\n",
      "   macro avg       0.58      0.58      0.58     30367\n",
      "weighted avg       0.58      0.58      0.58     30367\n",
      "\n",
      "RandomForestClassifier(bootstrap=True, ccp_alpha=0.0, class_weight=None,\n",
      "                       criterion='gini', max_depth=None, max_features='auto',\n",
      "                       max_leaf_nodes=None, max_samples=None,\n",
      "                       min_impurity_decrease=0.0, min_impurity_split=None,\n",
      "                       min_samples_leaf=1, min_samples_split=2,\n",
      "                       min_weight_fraction_leaf=0.0, n_estimators=100,\n",
      "                       n_jobs=None, oob_score=False, random_state=None,\n",
      "                       verbose=0, warm_start=False) \n",
      "\n",
      "accuracy train: 0.9999858866699598 \n",
      "\n",
      "accuracy test: 0.6379951921493727 \n",
      "\n",
      "precision : 0.6380090497737556 \n",
      "\n",
      "Recall score: 0.6332474737467803 \n",
      "\n",
      "f1 score: 0.6356193443601047 \n",
      "\n",
      "              precision    recall  f1-score   support\n",
      "\n",
      "           0       0.64      0.64      0.64     15226\n",
      "           1       0.64      0.63      0.64     15141\n",
      "\n",
      "    accuracy                           0.64     30367\n",
      "   macro avg       0.64      0.64      0.64     30367\n",
      "weighted avg       0.64      0.64      0.64     30367\n",
      "\n",
      "GaussianNB(priors=None, var_smoothing=1e-09) \n",
      "\n",
      "accuracy train: 0.505440688730506 \n",
      "\n",
      "accuracy test: 0.5034741660354991 \n",
      "\n",
      "precision : 0.5010606417724502 \n",
      "\n",
      "Recall score: 0.9828280826893865 \n",
      "\n",
      "f1 score: 0.6637377341659233 \n",
      "\n",
      "              precision    recall  f1-score   support\n",
      "\n",
      "           0       0.61      0.03      0.05     15226\n",
      "           1       0.50      0.98      0.66     15141\n",
      "\n",
      "    accuracy                           0.50     30367\n",
      "   macro avg       0.56      0.50      0.36     30367\n",
      "weighted avg       0.56      0.50      0.36     30367\n",
      "\n",
      "BaggingClassifier(base_estimator=None, bootstrap=True, bootstrap_features=False,\n",
      "                  max_features=1.0, max_samples=1.0, n_estimators=10,\n",
      "                  n_jobs=None, oob_score=False, random_state=0, verbose=0,\n",
      "                  warm_start=False) \n",
      "\n",
      "accuracy train: 0.9850116434972832 \n",
      "\n",
      "accuracy test: 0.6026278526031548 \n",
      "\n",
      "precision : 0.6245542949756888 \n",
      "\n",
      "Recall score: 0.5090152565880721 \n",
      "\n",
      "f1 score: 0.5608966194825517 \n",
      "\n",
      "              precision    recall  f1-score   support\n",
      "\n",
      "           0       0.59      0.70      0.64     15226\n",
      "           1       0.62      0.51      0.56     15141\n",
      "\n",
      "    accuracy                           0.60     30367\n",
      "   macro avg       0.61      0.60      0.60     30367\n",
      "weighted avg       0.61      0.60      0.60     30367\n",
      "\n",
      "AdaBoostClassifier(algorithm='SAMME.R', base_estimator=None, learning_rate=1.0,\n",
      "                   n_estimators=50, random_state=None) \n",
      "\n",
      "accuracy train: 0.60695787170983 \n",
      "\n",
      "accuracy test: 0.6053940132380544 \n",
      "\n",
      "precision : 0.5968473994111875 \n",
      "\n",
      "Recall score: 0.6426920282676177 \n",
      "\n",
      "f1 score: 0.6189219271744316 \n",
      "\n",
      "              precision    recall  f1-score   support\n",
      "\n",
      "           0       0.62      0.57      0.59     15226\n",
      "           1       0.60      0.64      0.62     15141\n",
      "\n",
      "    accuracy                           0.61     30367\n",
      "   macro avg       0.61      0.61      0.60     30367\n",
      "weighted avg       0.61      0.61      0.60     30367\n",
      "\n",
      "XGBClassifier(base_score=0.5, booster='gbtree', colsample_bylevel=1,\n",
      "              colsample_bynode=1, colsample_bytree=1, gamma=0,\n",
      "              learning_rate=0.1, max_delta_step=0, max_depth=3,\n",
      "              min_child_weight=1, missing=None, n_estimators=100, n_jobs=-1,\n",
      "              nthread=None, objective='binary:logistic', random_state=0,\n",
      "              reg_alpha=0, reg_lambda=1, scale_pos_weight=1, seed=None,\n",
      "              silent=None, subsample=1, verbosity=1) \n",
      "\n",
      "accuracy train: 0.6190812222143814 \n",
      "\n",
      "accuracy test: 0.6137254256265025 \n",
      "\n",
      "precision : 0.5999296888732641 \n",
      "\n",
      "Recall score: 0.6762433128591242 \n",
      "\n",
      "f1 score: 0.6358047690014903 \n",
      "\n",
      "              precision    recall  f1-score   support\n",
      "\n",
      "           0       0.63      0.55      0.59     15226\n",
      "           1       0.60      0.68      0.64     15141\n",
      "\n",
      "    accuracy                           0.61     30367\n",
      "   macro avg       0.62      0.61      0.61     30367\n",
      "weighted avg       0.62      0.61      0.61     30367\n",
      "\n"
     ]
    }
   ],
   "source": [
    "results = []\n",
    "for item in classifiers:\n",
    "    print(item,\"\\n\")\n",
    "    clf = item\n",
    "    clf.fit(X_train, y_train)\n",
    "    y_pred=clf.predict(X_test)\n",
    "    #print(y_pred)\n",
    "    #results.append(accuracy_score(y_test,y_pred))\n",
    "    results.append(y_pred)\n",
    "    print(\"accuracy train:\",clf.score(X_train,y_train),\"\\n\")\n",
    "    print(\"accuracy test:\",clf.score(X_test,y_test),\"\\n\")\n",
    "    print(\"precision :\",precision_score(y_test,y_pred),\"\\n\")\n",
    "    print('Recall score:',recall_score(y_test,y_pred),'\\n')\n",
    "    print(\"f1 score:\",f1_score(y_test,y_pred),\"\\n\")\n",
    "    from sklearn.metrics import classification_report\n",
    "    print(classification_report(y_test,y_pred))"
   ]
  },
  {
   "cell_type": "code",
   "execution_count": 38,
   "metadata": {},
   "outputs": [
    {
     "data": {
      "text/plain": [
       "0    54756\n",
       "1    15191\n",
       "Name: loan_default, dtype: int64"
      ]
     },
     "execution_count": 38,
     "metadata": {},
     "output_type": "execute_result"
    }
   ],
   "source": [
    "y_test.value_counts()"
   ]
  },
  {
   "cell_type": "code",
   "execution_count": 40,
   "metadata": {},
   "outputs": [],
   "source": [
    "d=pd.concat([X_test,y_test],axis=1)"
   ]
  },
  {
   "cell_type": "code",
   "execution_count": 42,
   "metadata": {},
   "outputs": [
    {
     "data": {
      "text/plain": [
       "Index(['disbursed_amount', 'asset_cost', 'ltv', 'branch_id', 'supplier_id',\n",
       "       'manufacturer_id', 'Current_pincode_ID', 'State_ID', 'Employee_code_ID',\n",
       "       'Aadhar_flag', 'PAN_flag', 'VoterID_flag', 'Driving_flag',\n",
       "       'Passport_flag', 'PERFORM_CNS.SCORE', 'PRI.NO.OF.ACCTS',\n",
       "       'PRI.ACTIVE.ACCTS', 'PRI.OVERDUE.ACCTS', 'PRI.CURRENT.BALANCE',\n",
       "       'PRI.SANCTIONED.AMOUNT', 'PRI.DISBURSED.AMOUNT', 'SEC.NO.OF.ACCTS',\n",
       "       'SEC.ACTIVE.ACCTS', 'SEC.OVERDUE.ACCTS', 'SEC.CURRENT.BALANCE',\n",
       "       'SEC.SANCTIONED.AMOUNT', 'SEC.DISBURSED.AMOUNT', 'PRIMARY.INSTAL.AMT',\n",
       "       'SEC.INSTAL.AMT', 'NEW.ACCTS.IN.LAST.SIX.MONTHS',\n",
       "       'DELINQUENT.ACCTS.IN.LAST.SIX.MONTHS', 'AVERAGE.ACCT.AGE',\n",
       "       'CREDIT.HISTORY.LENGTH', 'NO.OF_INQUIRIES', 'sub_risk_label',\n",
       "       'employment_label', 'Age', 'loan_default'],\n",
       "      dtype='object')"
      ]
     },
     "execution_count": 42,
     "metadata": {},
     "output_type": "execute_result"
    }
   ],
   "source": [
    "d.columns"
   ]
  },
  {
   "cell_type": "code",
   "execution_count": 45,
   "metadata": {},
   "outputs": [
    {
     "data": {
      "text/plain": [
       "55553.0"
      ]
     },
     "execution_count": 45,
     "metadata": {},
     "output_type": "execute_result"
    }
   ],
   "source": [
    "d[d['loan_default']==1]['disbursed_amount'].median()"
   ]
  },
  {
   "cell_type": "code",
   "execution_count": 46,
   "metadata": {},
   "outputs": [
    {
     "data": {
      "text/plain": [
       "53728.0"
      ]
     },
     "execution_count": 46,
     "metadata": {},
     "output_type": "execute_result"
    }
   ],
   "source": [
    "d['disbursed_amount'].median()"
   ]
  },
  {
   "cell_type": "code",
   "execution_count": null,
   "metadata": {},
   "outputs": [],
   "source": []
  }
 ],
 "metadata": {
  "hide_input": false,
  "kernelspec": {
   "display_name": "Python 3",
   "language": "python",
   "name": "python3"
  },
  "language_info": {
   "codemirror_mode": {
    "name": "ipython",
    "version": 3
   },
   "file_extension": ".py",
   "mimetype": "text/x-python",
   "name": "python",
   "nbconvert_exporter": "python",
   "pygments_lexer": "ipython3",
   "version": "3.7.6"
  },
  "nbTranslate": {
   "displayLangs": [
    "*"
   ],
   "hotkey": "alt-t",
   "langInMainMenu": true,
   "sourceLang": "en",
   "targetLang": "fr",
   "useGoogleTranslate": true
  }
 },
 "nbformat": 4,
 "nbformat_minor": 2
}
